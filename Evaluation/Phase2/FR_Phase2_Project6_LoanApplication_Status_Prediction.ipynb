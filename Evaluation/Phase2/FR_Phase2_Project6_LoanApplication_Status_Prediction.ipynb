{
 "cells": [
  {
   "cell_type": "markdown",
   "metadata": {},
   "source": [
    "# Loan Application Status Prediction"
   ]
  },
  {
   "cell_type": "markdown",
   "metadata": {},
   "source": [
    "## <b> Problem Statement:</b>\n",
    "This dataset includes details of applicants who have applied for loan. The dataset includes details like credit history, loan amount, their income, dependents etc. \n",
    "\n",
    "#### <b>Independent Variables:</b>\n",
    "\n",
    "- Loan_ID\n",
    "\n",
    "- Gender\n",
    "\n",
    "- Married\n",
    "\n",
    "- Dependents\n",
    "\n",
    "- Education\n",
    "\n",
    "- Self_Employed\n",
    "\n",
    "- ApplicantIncome\n",
    "\n",
    "- CoapplicantIncome\n",
    "\n",
    "- Loan_Amount\n",
    "\n",
    "- Loan_Amount_Term\n",
    "\n",
    "- Credit History\n",
    "\n",
    "- Property_Area\n",
    "\n",
    "Dependent Variable (Target Variable):\n",
    "\n",
    "- Loan_Status\n",
    "\n",
    "<b>You have to build a model that can predict whether the loan of the applicant will be approved or not on the basis of the details provided in the dataset.</b> "
   ]
  },
  {
   "cell_type": "markdown",
   "metadata": {},
   "source": [
    "<b>Note: The link of the dataset is below. \n",
    "\n",
    "Downlaod Files:</b>\n",
    "\n",
    "https://github.com/dsrscientist/DSData/blob/master/loan_prediction.csv"
   ]
  },
  {
   "cell_type": "markdown",
   "metadata": {},
   "source": [
    "- <b> Importing require library for performing EDA, Data Wrangling and data cleaning</b>"
   ]
  },
  {
   "cell_type": "code",
   "execution_count": 1,
   "metadata": {},
   "outputs": [
    {
     "data": {
      "text/html": [
       "<div>\n",
       "<style scoped>\n",
       "    .dataframe tbody tr th:only-of-type {\n",
       "        vertical-align: middle;\n",
       "    }\n",
       "\n",
       "    .dataframe tbody tr th {\n",
       "        vertical-align: top;\n",
       "    }\n",
       "\n",
       "    .dataframe thead th {\n",
       "        text-align: right;\n",
       "    }\n",
       "</style>\n",
       "<table border=\"1\" class=\"dataframe\">\n",
       "  <thead>\n",
       "    <tr style=\"text-align: right;\">\n",
       "      <th></th>\n",
       "      <th>Loan_ID</th>\n",
       "      <th>Gender</th>\n",
       "      <th>Married</th>\n",
       "      <th>Dependents</th>\n",
       "      <th>Education</th>\n",
       "      <th>Self_Employed</th>\n",
       "      <th>ApplicantIncome</th>\n",
       "      <th>CoapplicantIncome</th>\n",
       "      <th>LoanAmount</th>\n",
       "      <th>Loan_Amount_Term</th>\n",
       "      <th>Credit_History</th>\n",
       "      <th>Property_Area</th>\n",
       "      <th>Loan_Status</th>\n",
       "    </tr>\n",
       "  </thead>\n",
       "  <tbody>\n",
       "    <tr>\n",
       "      <th>0</th>\n",
       "      <td>LP001002</td>\n",
       "      <td>Male</td>\n",
       "      <td>No</td>\n",
       "      <td>0</td>\n",
       "      <td>Graduate</td>\n",
       "      <td>No</td>\n",
       "      <td>5849</td>\n",
       "      <td>0.0</td>\n",
       "      <td>NaN</td>\n",
       "      <td>360.0</td>\n",
       "      <td>1.0</td>\n",
       "      <td>Urban</td>\n",
       "      <td>Y</td>\n",
       "    </tr>\n",
       "    <tr>\n",
       "      <th>1</th>\n",
       "      <td>LP001003</td>\n",
       "      <td>Male</td>\n",
       "      <td>Yes</td>\n",
       "      <td>1</td>\n",
       "      <td>Graduate</td>\n",
       "      <td>No</td>\n",
       "      <td>4583</td>\n",
       "      <td>1508.0</td>\n",
       "      <td>128.0</td>\n",
       "      <td>360.0</td>\n",
       "      <td>1.0</td>\n",
       "      <td>Rural</td>\n",
       "      <td>N</td>\n",
       "    </tr>\n",
       "    <tr>\n",
       "      <th>2</th>\n",
       "      <td>LP001005</td>\n",
       "      <td>Male</td>\n",
       "      <td>Yes</td>\n",
       "      <td>0</td>\n",
       "      <td>Graduate</td>\n",
       "      <td>Yes</td>\n",
       "      <td>3000</td>\n",
       "      <td>0.0</td>\n",
       "      <td>66.0</td>\n",
       "      <td>360.0</td>\n",
       "      <td>1.0</td>\n",
       "      <td>Urban</td>\n",
       "      <td>Y</td>\n",
       "    </tr>\n",
       "    <tr>\n",
       "      <th>3</th>\n",
       "      <td>LP001006</td>\n",
       "      <td>Male</td>\n",
       "      <td>Yes</td>\n",
       "      <td>0</td>\n",
       "      <td>Not Graduate</td>\n",
       "      <td>No</td>\n",
       "      <td>2583</td>\n",
       "      <td>2358.0</td>\n",
       "      <td>120.0</td>\n",
       "      <td>360.0</td>\n",
       "      <td>1.0</td>\n",
       "      <td>Urban</td>\n",
       "      <td>Y</td>\n",
       "    </tr>\n",
       "    <tr>\n",
       "      <th>4</th>\n",
       "      <td>LP001008</td>\n",
       "      <td>Male</td>\n",
       "      <td>No</td>\n",
       "      <td>0</td>\n",
       "      <td>Graduate</td>\n",
       "      <td>No</td>\n",
       "      <td>6000</td>\n",
       "      <td>0.0</td>\n",
       "      <td>141.0</td>\n",
       "      <td>360.0</td>\n",
       "      <td>1.0</td>\n",
       "      <td>Urban</td>\n",
       "      <td>Y</td>\n",
       "    </tr>\n",
       "  </tbody>\n",
       "</table>\n",
       "</div>"
      ],
      "text/plain": [
       "    Loan_ID Gender Married Dependents     Education Self_Employed  \\\n",
       "0  LP001002   Male      No          0      Graduate            No   \n",
       "1  LP001003   Male     Yes          1      Graduate            No   \n",
       "2  LP001005   Male     Yes          0      Graduate           Yes   \n",
       "3  LP001006   Male     Yes          0  Not Graduate            No   \n",
       "4  LP001008   Male      No          0      Graduate            No   \n",
       "\n",
       "   ApplicantIncome  CoapplicantIncome  LoanAmount  Loan_Amount_Term  \\\n",
       "0             5849                0.0         NaN             360.0   \n",
       "1             4583             1508.0       128.0             360.0   \n",
       "2             3000                0.0        66.0             360.0   \n",
       "3             2583             2358.0       120.0             360.0   \n",
       "4             6000                0.0       141.0             360.0   \n",
       "\n",
       "   Credit_History Property_Area Loan_Status  \n",
       "0             1.0         Urban           Y  \n",
       "1             1.0         Rural           N  \n",
       "2             1.0         Urban           Y  \n",
       "3             1.0         Urban           Y  \n",
       "4             1.0         Urban           Y  "
      ]
     },
     "execution_count": 1,
     "metadata": {},
     "output_type": "execute_result"
    }
   ],
   "source": [
    "import numpy as np\n",
    "import pandas as pd\n",
    "import seaborn as sns\n",
    "import matplotlib.pyplot as plt\n",
    "\n",
    "from sklearn.model_selection import train_test_split\n",
    "from sklearn.preprocessing import StandardScaler ,LabelEncoder\n",
    "from sklearn.metrics import mean_absolute_percentage_error as mape\n",
    "from sklearn.linear_model import LinearRegression, Lasso, Ridge\n",
    "from xgboost import XGBRegressor\n",
    "from sklearn.ensemble import RandomForestRegressor, AdaBoostRegressor\n",
    "from sklearn.metrics import mean_squared_error\n",
    "\n",
    "import warnings\n",
    "warnings.filterwarnings('ignore')\n",
    "\n",
    "df = pd.read_csv(\"https://raw.githubusercontent.com/dsrscientist/DSData/master/loan_prediction.csv\")\n",
    "df.head()"
   ]
  },
  {
   "cell_type": "code",
   "execution_count": 2,
   "metadata": {},
   "outputs": [
    {
     "name": "stdout",
     "output_type": "stream",
     "text": [
      "No of Rows: 614\n",
      "No. of Columns: 13\n"
     ]
    },
    {
     "data": {
      "text/html": [
       "<div>\n",
       "<style scoped>\n",
       "    .dataframe tbody tr th:only-of-type {\n",
       "        vertical-align: middle;\n",
       "    }\n",
       "\n",
       "    .dataframe tbody tr th {\n",
       "        vertical-align: top;\n",
       "    }\n",
       "\n",
       "    .dataframe thead th {\n",
       "        text-align: right;\n",
       "    }\n",
       "</style>\n",
       "<table border=\"1\" class=\"dataframe\">\n",
       "  <thead>\n",
       "    <tr style=\"text-align: right;\">\n",
       "      <th></th>\n",
       "      <th>Loan_ID</th>\n",
       "      <th>Gender</th>\n",
       "      <th>Married</th>\n",
       "      <th>Dependents</th>\n",
       "      <th>Education</th>\n",
       "      <th>Self_Employed</th>\n",
       "      <th>ApplicantIncome</th>\n",
       "      <th>CoapplicantIncome</th>\n",
       "      <th>LoanAmount</th>\n",
       "      <th>Loan_Amount_Term</th>\n",
       "      <th>Credit_History</th>\n",
       "      <th>Property_Area</th>\n",
       "      <th>Loan_Status</th>\n",
       "    </tr>\n",
       "  </thead>\n",
       "  <tbody>\n",
       "    <tr>\n",
       "      <th>0</th>\n",
       "      <td>LP001002</td>\n",
       "      <td>Male</td>\n",
       "      <td>No</td>\n",
       "      <td>0</td>\n",
       "      <td>Graduate</td>\n",
       "      <td>No</td>\n",
       "      <td>5849</td>\n",
       "      <td>0.0</td>\n",
       "      <td>NaN</td>\n",
       "      <td>360.0</td>\n",
       "      <td>1.0</td>\n",
       "      <td>Urban</td>\n",
       "      <td>Y</td>\n",
       "    </tr>\n",
       "    <tr>\n",
       "      <th>1</th>\n",
       "      <td>LP001003</td>\n",
       "      <td>Male</td>\n",
       "      <td>Yes</td>\n",
       "      <td>1</td>\n",
       "      <td>Graduate</td>\n",
       "      <td>No</td>\n",
       "      <td>4583</td>\n",
       "      <td>1508.0</td>\n",
       "      <td>128.0</td>\n",
       "      <td>360.0</td>\n",
       "      <td>1.0</td>\n",
       "      <td>Rural</td>\n",
       "      <td>N</td>\n",
       "    </tr>\n",
       "    <tr>\n",
       "      <th>2</th>\n",
       "      <td>LP001005</td>\n",
       "      <td>Male</td>\n",
       "      <td>Yes</td>\n",
       "      <td>0</td>\n",
       "      <td>Graduate</td>\n",
       "      <td>Yes</td>\n",
       "      <td>3000</td>\n",
       "      <td>0.0</td>\n",
       "      <td>66.0</td>\n",
       "      <td>360.0</td>\n",
       "      <td>1.0</td>\n",
       "      <td>Urban</td>\n",
       "      <td>Y</td>\n",
       "    </tr>\n",
       "    <tr>\n",
       "      <th>3</th>\n",
       "      <td>LP001006</td>\n",
       "      <td>Male</td>\n",
       "      <td>Yes</td>\n",
       "      <td>0</td>\n",
       "      <td>Not Graduate</td>\n",
       "      <td>No</td>\n",
       "      <td>2583</td>\n",
       "      <td>2358.0</td>\n",
       "      <td>120.0</td>\n",
       "      <td>360.0</td>\n",
       "      <td>1.0</td>\n",
       "      <td>Urban</td>\n",
       "      <td>Y</td>\n",
       "    </tr>\n",
       "    <tr>\n",
       "      <th>4</th>\n",
       "      <td>LP001008</td>\n",
       "      <td>Male</td>\n",
       "      <td>No</td>\n",
       "      <td>0</td>\n",
       "      <td>Graduate</td>\n",
       "      <td>No</td>\n",
       "      <td>6000</td>\n",
       "      <td>0.0</td>\n",
       "      <td>141.0</td>\n",
       "      <td>360.0</td>\n",
       "      <td>1.0</td>\n",
       "      <td>Urban</td>\n",
       "      <td>Y</td>\n",
       "    </tr>\n",
       "  </tbody>\n",
       "</table>\n",
       "</div>"
      ],
      "text/plain": [
       "    Loan_ID Gender Married Dependents     Education Self_Employed  \\\n",
       "0  LP001002   Male      No          0      Graduate            No   \n",
       "1  LP001003   Male     Yes          1      Graduate            No   \n",
       "2  LP001005   Male     Yes          0      Graduate           Yes   \n",
       "3  LP001006   Male     Yes          0  Not Graduate            No   \n",
       "4  LP001008   Male      No          0      Graduate            No   \n",
       "\n",
       "   ApplicantIncome  CoapplicantIncome  LoanAmount  Loan_Amount_Term  \\\n",
       "0             5849                0.0         NaN             360.0   \n",
       "1             4583             1508.0       128.0             360.0   \n",
       "2             3000                0.0        66.0             360.0   \n",
       "3             2583             2358.0       120.0             360.0   \n",
       "4             6000                0.0       141.0             360.0   \n",
       "\n",
       "   Credit_History Property_Area Loan_Status  \n",
       "0             1.0         Urban           Y  \n",
       "1             1.0         Rural           N  \n",
       "2             1.0         Urban           Y  \n",
       "3             1.0         Urban           Y  \n",
       "4             1.0         Urban           Y  "
      ]
     },
     "execution_count": 2,
     "metadata": {},
     "output_type": "execute_result"
    }
   ],
   "source": [
    "print('No of Rows:',df.shape[0])\n",
    "print('No. of Columns:',df.shape[1])\n",
    "df.head()"
   ]
  },
  {
   "cell_type": "code",
   "execution_count": 3,
   "metadata": {},
   "outputs": [
    {
     "data": {
      "text/html": [
       "<div>\n",
       "<style scoped>\n",
       "    .dataframe tbody tr th:only-of-type {\n",
       "        vertical-align: middle;\n",
       "    }\n",
       "\n",
       "    .dataframe tbody tr th {\n",
       "        vertical-align: top;\n",
       "    }\n",
       "\n",
       "    .dataframe thead th {\n",
       "        text-align: right;\n",
       "    }\n",
       "</style>\n",
       "<table border=\"1\" class=\"dataframe\">\n",
       "  <thead>\n",
       "    <tr style=\"text-align: right;\">\n",
       "      <th></th>\n",
       "      <th>Loan_ID</th>\n",
       "      <th>Gender</th>\n",
       "      <th>Married</th>\n",
       "      <th>Dependents</th>\n",
       "      <th>Education</th>\n",
       "      <th>Self_Employed</th>\n",
       "      <th>ApplicantIncome</th>\n",
       "      <th>CoapplicantIncome</th>\n",
       "      <th>LoanAmount</th>\n",
       "      <th>Loan_Amount_Term</th>\n",
       "      <th>Credit_History</th>\n",
       "      <th>Property_Area</th>\n",
       "      <th>Loan_Status</th>\n",
       "    </tr>\n",
       "  </thead>\n",
       "  <tbody>\n",
       "    <tr>\n",
       "      <th>609</th>\n",
       "      <td>LP002978</td>\n",
       "      <td>Female</td>\n",
       "      <td>No</td>\n",
       "      <td>0</td>\n",
       "      <td>Graduate</td>\n",
       "      <td>No</td>\n",
       "      <td>2900</td>\n",
       "      <td>0.0</td>\n",
       "      <td>71.0</td>\n",
       "      <td>360.0</td>\n",
       "      <td>1.0</td>\n",
       "      <td>Rural</td>\n",
       "      <td>Y</td>\n",
       "    </tr>\n",
       "    <tr>\n",
       "      <th>610</th>\n",
       "      <td>LP002979</td>\n",
       "      <td>Male</td>\n",
       "      <td>Yes</td>\n",
       "      <td>3+</td>\n",
       "      <td>Graduate</td>\n",
       "      <td>No</td>\n",
       "      <td>4106</td>\n",
       "      <td>0.0</td>\n",
       "      <td>40.0</td>\n",
       "      <td>180.0</td>\n",
       "      <td>1.0</td>\n",
       "      <td>Rural</td>\n",
       "      <td>Y</td>\n",
       "    </tr>\n",
       "    <tr>\n",
       "      <th>611</th>\n",
       "      <td>LP002983</td>\n",
       "      <td>Male</td>\n",
       "      <td>Yes</td>\n",
       "      <td>1</td>\n",
       "      <td>Graduate</td>\n",
       "      <td>No</td>\n",
       "      <td>8072</td>\n",
       "      <td>240.0</td>\n",
       "      <td>253.0</td>\n",
       "      <td>360.0</td>\n",
       "      <td>1.0</td>\n",
       "      <td>Urban</td>\n",
       "      <td>Y</td>\n",
       "    </tr>\n",
       "    <tr>\n",
       "      <th>612</th>\n",
       "      <td>LP002984</td>\n",
       "      <td>Male</td>\n",
       "      <td>Yes</td>\n",
       "      <td>2</td>\n",
       "      <td>Graduate</td>\n",
       "      <td>No</td>\n",
       "      <td>7583</td>\n",
       "      <td>0.0</td>\n",
       "      <td>187.0</td>\n",
       "      <td>360.0</td>\n",
       "      <td>1.0</td>\n",
       "      <td>Urban</td>\n",
       "      <td>Y</td>\n",
       "    </tr>\n",
       "    <tr>\n",
       "      <th>613</th>\n",
       "      <td>LP002990</td>\n",
       "      <td>Female</td>\n",
       "      <td>No</td>\n",
       "      <td>0</td>\n",
       "      <td>Graduate</td>\n",
       "      <td>Yes</td>\n",
       "      <td>4583</td>\n",
       "      <td>0.0</td>\n",
       "      <td>133.0</td>\n",
       "      <td>360.0</td>\n",
       "      <td>0.0</td>\n",
       "      <td>Semiurban</td>\n",
       "      <td>N</td>\n",
       "    </tr>\n",
       "  </tbody>\n",
       "</table>\n",
       "</div>"
      ],
      "text/plain": [
       "      Loan_ID  Gender Married Dependents Education Self_Employed  \\\n",
       "609  LP002978  Female      No          0  Graduate            No   \n",
       "610  LP002979    Male     Yes         3+  Graduate            No   \n",
       "611  LP002983    Male     Yes          1  Graduate            No   \n",
       "612  LP002984    Male     Yes          2  Graduate            No   \n",
       "613  LP002990  Female      No          0  Graduate           Yes   \n",
       "\n",
       "     ApplicantIncome  CoapplicantIncome  LoanAmount  Loan_Amount_Term  \\\n",
       "609             2900                0.0        71.0             360.0   \n",
       "610             4106                0.0        40.0             180.0   \n",
       "611             8072              240.0       253.0             360.0   \n",
       "612             7583                0.0       187.0             360.0   \n",
       "613             4583                0.0       133.0             360.0   \n",
       "\n",
       "     Credit_History Property_Area Loan_Status  \n",
       "609             1.0         Rural           Y  \n",
       "610             1.0         Rural           Y  \n",
       "611             1.0         Urban           Y  \n",
       "612             1.0         Urban           Y  \n",
       "613             0.0     Semiurban           N  "
      ]
     },
     "execution_count": 3,
     "metadata": {},
     "output_type": "execute_result"
    }
   ],
   "source": [
    "df.tail()"
   ]
  },
  {
   "cell_type": "code",
   "execution_count": 4,
   "metadata": {},
   "outputs": [
    {
     "data": {
      "text/plain": [
       "Index(['Loan_ID', 'Gender', 'Married', 'Dependents', 'Education',\n",
       "       'Self_Employed', 'ApplicantIncome', 'CoapplicantIncome', 'LoanAmount',\n",
       "       'Loan_Amount_Term', 'Credit_History', 'Property_Area', 'Loan_Status'],\n",
       "      dtype='object')"
      ]
     },
     "execution_count": 4,
     "metadata": {},
     "output_type": "execute_result"
    }
   ],
   "source": [
    "df.columns"
   ]
  },
  {
   "cell_type": "markdown",
   "metadata": {},
   "source": [
    "# Statistical Analysis"
   ]
  },
  {
   "cell_type": "markdown",
   "metadata": {},
   "source": [
    "### Data Integrity Check"
   ]
  },
  {
   "cell_type": "code",
   "execution_count": 5,
   "metadata": {},
   "outputs": [
    {
     "data": {
      "text/plain": [
       "0"
      ]
     },
     "execution_count": 5,
     "metadata": {},
     "output_type": "execute_result"
    }
   ],
   "source": [
    "df.duplicated().sum() # Check for duplicated entry exit in dataset "
   ]
  },
  {
   "cell_type": "markdown",
   "metadata": {},
   "source": [
    "#### Observation:\n",
    "Dataset doesnot contain Any duplicate entry."
   ]
  },
  {
   "cell_type": "markdown",
   "metadata": {},
   "source": [
    "### Datatype Check"
   ]
  },
  {
   "cell_type": "code",
   "execution_count": 6,
   "metadata": {},
   "outputs": [
    {
     "name": "stdout",
     "output_type": "stream",
     "text": [
      "<class 'pandas.core.frame.DataFrame'>\n",
      "RangeIndex: 614 entries, 0 to 613\n",
      "Data columns (total 13 columns):\n",
      " #   Column             Non-Null Count  Dtype  \n",
      "---  ------             --------------  -----  \n",
      " 0   Loan_ID            614 non-null    object \n",
      " 1   Gender             601 non-null    object \n",
      " 2   Married            611 non-null    object \n",
      " 3   Dependents         599 non-null    object \n",
      " 4   Education          614 non-null    object \n",
      " 5   Self_Employed      582 non-null    object \n",
      " 6   ApplicantIncome    614 non-null    int64  \n",
      " 7   CoapplicantIncome  614 non-null    float64\n",
      " 8   LoanAmount         592 non-null    float64\n",
      " 9   Loan_Amount_Term   600 non-null    float64\n",
      " 10  Credit_History     564 non-null    float64\n",
      " 11  Property_Area      614 non-null    object \n",
      " 12  Loan_Status        614 non-null    object \n",
      "dtypes: float64(4), int64(1), object(8)\n",
      "memory usage: 62.5+ KB\n"
     ]
    }
   ],
   "source": [
    "df.info()"
   ]
  },
  {
   "cell_type": "markdown",
   "metadata": {},
   "source": [
    "### Observation:\n",
    "    - We have 614 rows with 13 columns including target variable.\n",
    "    - 'Loan_Status'(Target Variable) with object datatype is categorical variable.\n",
    "    - Gender, Married, Education,Self Employed, Credit History, Loan Status are categorical features.\n",
    "    - We have 3 types of datatypes: float64(4), int64(1), object(8)"
   ]
  },
  {
   "cell_type": "markdown",
   "metadata": {},
   "source": [
    "### Missing value check "
   ]
  },
  {
   "cell_type": "code",
   "execution_count": 7,
   "metadata": {},
   "outputs": [
    {
     "data": {
      "text/plain": [
       "<AxesSubplot: >"
      ]
     },
     "execution_count": 7,
     "metadata": {},
     "output_type": "execute_result"
    },
    {
     "data": {
      "image/png": "[encoded data removed]",
      "text/plain": [
       "<Figure size 720x576 with 2 Axes>"
      ]
     },
     "metadata": {
      "needs_background": "light"
     },
     "output_type": "display_data"
    }
   ],
   "source": [
    "plt.figure(figsize=(10,8))\n",
    "sns.heatmap(df.isnull())"
   ]
  },
  {
   "cell_type": "code",
   "execution_count": 8,
   "metadata": {
    "scrolled": true
   },
   "outputs": [
    {
     "name": "stdout",
     "output_type": "stream",
     "text": [
      "                   Missing Values  % Missing data\n",
      "Credit_History                 50        8.143322\n",
      "Self_Employed                  32        5.211726\n",
      "LoanAmount                     22        3.583062\n",
      "Dependents                     15        2.442997\n",
      "Loan_Amount_Term               14        2.280130\n",
      "Gender                         13        2.117264\n",
      "Married                         3        0.488599\n",
      "Loan_ID                         0        0.000000\n",
      "Education                       0        0.000000\n",
      "ApplicantIncome                 0        0.000000\n",
      "CoapplicantIncome               0        0.000000\n",
      "Property_Area                   0        0.000000\n",
      "Loan_Status                     0        0.000000\n"
     ]
    }
   ],
   "source": [
    "missing_values = df.isnull().sum().sort_values(ascending = False)\n",
    "percentage_missing_values =(missing_values/len(df))*100\n",
    "print(pd.concat([missing_values, percentage_missing_values], axis =1, keys =['Missing Values', '% Missing data']))"
   ]
  },
  {
   "cell_type": "markdown",
   "metadata": {},
   "source": [
    "### Observation\n",
    "    - 7 out 13 columns contains missing value.\n",
    "    -We will use  mean amd mode to replace with NaN values.\n",
    "    \n"
   ]
  },
  {
   "cell_type": "markdown",
   "metadata": {},
   "source": [
    "### Start with Enlisting Value counts & Sub-categories of different categorial features available"
   ]
  },
  {
   "cell_type": "code",
   "execution_count": 9,
   "metadata": {},
   "outputs": [
    {
     "name": "stdout",
     "output_type": "stream",
     "text": [
      "Gender\n",
      "Male      489\n",
      "Female    112\n",
      "Name: Gender, dtype: int64\n",
      "====================================================================================================\n",
      "Married\n",
      "Yes    398\n",
      "No     213\n",
      "Name: Married, dtype: int64\n",
      "====================================================================================================\n",
      "Dependents\n",
      "0     345\n",
      "1     102\n",
      "2     101\n",
      "3+     51\n",
      "Name: Dependents, dtype: int64\n",
      "====================================================================================================\n",
      "Education\n",
      "Graduate        480\n",
      "Not Graduate    134\n",
      "Name: Education, dtype: int64\n",
      "====================================================================================================\n",
      "Self_Employed\n",
      "No     500\n",
      "Yes     82\n",
      "Name: Self_Employed, dtype: int64\n",
      "====================================================================================================\n",
      "Loan_Amount_Term\n",
      "360.0    512\n",
      "180.0     44\n",
      "480.0     15\n",
      "300.0     13\n",
      "240.0      4\n",
      "84.0       4\n",
      "120.0      3\n",
      "60.0       2\n",
      "36.0       2\n",
      "12.0       1\n",
      "Name: Loan_Amount_Term, dtype: int64\n",
      "====================================================================================================\n",
      "Property_Area\n",
      "Semiurban    233\n",
      "Urban        202\n",
      "Rural        179\n",
      "Name: Property_Area, dtype: int64\n",
      "====================================================================================================\n",
      "Credit_History\n",
      "1.0    475\n",
      "0.0     89\n",
      "Name: Credit_History, dtype: int64\n",
      "====================================================================================================\n",
      "Loan_Status\n",
      "Y    422\n",
      "N    192\n",
      "Name: Loan_Status, dtype: int64\n",
      "====================================================================================================\n"
     ]
    }
   ],
   "source": [
    "category=['Gender','Married','Dependents','Education','Self_Employed',\n",
    "          'Loan_Amount_Term','Property_Area','Credit_History','Loan_Status']\n",
    "for i in category:\n",
    "    print(i)\n",
    "    print(df[i].value_counts())\n",
    "    print('='*100)"
   ]
  },
  {
   "cell_type": "code",
   "execution_count": 10,
   "metadata": {},
   "outputs": [
    {
     "data": {
      "image/png": "[encoded data removed]",
      "text/plain": [
       "<Figure size 1440x1440 with 9 Axes>"
      ]
     },
     "metadata": {},
     "output_type": "display_data"
    }
   ],
   "source": [
    "sns.set_palette('gist_rainbow_r')\n",
    "plt.figure(figsize=(20,20),facecolor='white')\n",
    "plotnumber=1\n",
    "category=['Gender','Married','Dependents','Education','Self_Employed',\n",
    "          'Loan_Amount_Term','Property_Area','Credit_History','Loan_Status']\n",
    "for i in category:\n",
    "    if plotnumber<=9:\n",
    "        ax=plt.subplot(3,3,plotnumber)\n",
    "        sns.countplot(x=df[i])\n",
    "        plt.xlabel(i,fontsize=20)\n",
    "    plotnumber+=1\n",
    "plt.tight_layout()\n",
    "plt.show()"
   ]
  },
  {
   "cell_type": "markdown",
   "metadata": {},
   "source": [
    "### Observation\n",
    "\n",
    "     - 80 % applicants are Male. We can Explore loan amount for each gender applied & evaluate whether same basis loan is approved for each gender or not?\n",
    "     - Only 20% applicants are self employed. \n",
    "     -  75% of loan applicants are graduates & ~70% are married \n",
    "     - ~60% of the applicants have no dependents.\n",
    "     - Most of applicants are from Semi Urban areas, followed by Urban and Rural areas.\n",
    "     - 80% people previously have credit history. \n",
    "     - 70 % applicant gets loan approved.\n",
    "    \n",
    "    Impute categoical variable with mode in the category. \n",
    "    For numerical variable we have option of mean and median. \n",
    "    If Outliers are to strech then we will impute with median.  \n",
    "."
   ]
  },
  {
   "cell_type": "code",
   "execution_count": 11,
   "metadata": {},
   "outputs": [
    {
     "data": {
      "image/png": "[encoded data removed]",
      "text/plain": [
       "<Figure size 1008x432 with 2 Axes>"
      ]
     },
     "metadata": {
      "needs_background": "light"
     },
     "output_type": "display_data"
    }
   ],
   "source": [
    "plt.figure(figsize=(14,6))\n",
    "plt.subplot(1,2,1)\n",
    "sns.boxplot( y='LoanAmount', data=df,color='cyan')\n",
    "plt.ylabel('Loan Amount',fontsize=15)\n",
    "plt.subplot(1,2,2)\n",
    "sns.distplot(df['LoanAmount'], color='b')\n",
    "plt.xlabel('Loan Amount',fontsize=15)\n",
    "plt.tight_layout()\n",
    "plt.show()"
   ]
  },
  {
   "cell_type": "code",
   "execution_count": 12,
   "metadata": {},
   "outputs": [
    {
     "name": "stdout",
     "output_type": "stream",
     "text": [
      "Mean of Loan Amount: 146.41216216216216\n",
      "Median of Loan Amount: 128.0\n"
     ]
    }
   ],
   "source": [
    "print(\"Mean of Loan Amount:\",df['LoanAmount'].mean())\n",
    "print(\"Median of Loan Amount:\",df['LoanAmount'].median())"
   ]
  },
  {
   "cell_type": "markdown",
   "metadata": {},
   "source": [
    "#### Observation -\n",
    "- The mean is greater than median loan amount.\n",
    "- Clearly we can see outliers in boxplot\n",
    "\n",
    "As extreme outliers are present in feature a we are going to impute missing values in <u>loan amount  with median."
   ]
  },
  {
   "cell_type": "markdown",
   "metadata": {},
   "source": [
    "### Imputation of Missing values"
   ]
  },
  {
   "cell_type": "code",
   "execution_count": 13,
   "metadata": {},
   "outputs": [],
   "source": [
    "# Imputate Missing value with mode for categorical features\n",
    "df['Credit_History'].fillna(df['Credit_History'].mode()[0],inplace=True)\n",
    "df['Self_Employed'].fillna(df['Self_Employed'].mode()[0],inplace=True)\n",
    "df['Dependents'].fillna(df['Dependents'].mode()[0], inplace=True)\n",
    "df['Gender'].fillna(df['Gender'].mode()[0],inplace=True)\n",
    "df['Married'].fillna(df['Married'].mode()[0],inplace=True)\n",
    "\n",
    "# Imputation of Numerical features\n",
    "df['Loan_Amount_Term'].fillna(df['Loan_Amount_Term'].mode()[0],inplace=True)\n",
    "df['LoanAmount'].fillna(df['LoanAmount'].median(), inplace=True)"
   ]
  },
  {
   "cell_type": "markdown",
   "metadata": {},
   "source": [
    "### Missing Value Check After Imputation"
   ]
  },
  {
   "cell_type": "code",
   "execution_count": 14,
   "metadata": {},
   "outputs": [
    {
     "name": "stdout",
     "output_type": "stream",
     "text": [
      "                   Missing Values  % Missing data\n",
      "Loan_ID                         0             0.0\n",
      "Gender                          0             0.0\n",
      "Married                         0             0.0\n",
      "Dependents                      0             0.0\n",
      "Education                       0             0.0\n",
      "Self_Employed                   0             0.0\n",
      "ApplicantIncome                 0             0.0\n",
      "CoapplicantIncome               0             0.0\n",
      "LoanAmount                      0             0.0\n",
      "Loan_Amount_Term                0             0.0\n",
      "Credit_History                  0             0.0\n",
      "Property_Area                   0             0.0\n",
      "Loan_Status                     0             0.0\n"
     ]
    }
   ],
   "source": [
    "missing_values = df.isnull().sum().sort_values(ascending = False)\n",
    "percentage_missing_values =(missing_values/len(df))*100\n",
    "print(pd.concat([missing_values, percentage_missing_values], axis =1, keys =['Missing Values', '% Missing data']))"
   ]
  },
  {
   "cell_type": "markdown",
   "metadata": {},
   "source": [
    "#### Observation:\n",
    "No Missing Value is Present.\n"
   ]
  },
  {
   "cell_type": "markdown",
   "metadata": {},
   "source": [
    "### Statistical Matrix"
   ]
  },
  {
   "cell_type": "code",
   "execution_count": 15,
   "metadata": {},
   "outputs": [
    {
     "data": {
      "text/plain": [
       "<AxesSubplot: >"
      ]
     },
     "execution_count": 15,
     "metadata": {},
     "output_type": "execute_result"
    },
    {
     "data": {
      "image/png": "[encoded data removed]",
      "text/plain": [
       "<Figure size 864x576 with 2 Axes>"
      ]
     },
     "metadata": {
      "needs_background": "light"
     },
     "output_type": "display_data"
    }
   ],
   "source": [
    "# Visualizing the statistics of the columns using heatmap.\n",
    "plt.figure(figsize=(12,8))\n",
    "sns.heatmap(df.describe(),linewidths = 0.1,fmt='0.1f',annot = True,cmap='PiYG')"
   ]
  },
  {
   "cell_type": "code",
   "execution_count": 16,
   "metadata": {},
   "outputs": [
    {
     "data": {
      "text/html": [
       "<div>\n",
       "<style scoped>\n",
       "    .dataframe tbody tr th:only-of-type {\n",
       "        vertical-align: middle;\n",
       "    }\n",
       "\n",
       "    .dataframe tbody tr th {\n",
       "        vertical-align: top;\n",
       "    }\n",
       "\n",
       "    .dataframe thead th {\n",
       "        text-align: right;\n",
       "    }\n",
       "</style>\n",
       "<table border=\"1\" class=\"dataframe\">\n",
       "  <thead>\n",
       "    <tr style=\"text-align: right;\">\n",
       "      <th></th>\n",
       "      <th>ApplicantIncome</th>\n",
       "      <th>CoapplicantIncome</th>\n",
       "      <th>LoanAmount</th>\n",
       "      <th>Loan_Amount_Term</th>\n",
       "      <th>Credit_History</th>\n",
       "    </tr>\n",
       "  </thead>\n",
       "  <tbody>\n",
       "    <tr>\n",
       "      <th>count</th>\n",
       "      <td>614.000000</td>\n",
       "      <td>614.000000</td>\n",
       "      <td>614.000000</td>\n",
       "      <td>614.000000</td>\n",
       "      <td>614.000000</td>\n",
       "    </tr>\n",
       "    <tr>\n",
       "      <th>mean</th>\n",
       "      <td>5403.459283</td>\n",
       "      <td>1621.245798</td>\n",
       "      <td>145.752443</td>\n",
       "      <td>342.410423</td>\n",
       "      <td>0.855049</td>\n",
       "    </tr>\n",
       "    <tr>\n",
       "      <th>std</th>\n",
       "      <td>6109.041673</td>\n",
       "      <td>2926.248369</td>\n",
       "      <td>84.107233</td>\n",
       "      <td>64.428629</td>\n",
       "      <td>0.352339</td>\n",
       "    </tr>\n",
       "    <tr>\n",
       "      <th>min</th>\n",
       "      <td>150.000000</td>\n",
       "      <td>0.000000</td>\n",
       "      <td>9.000000</td>\n",
       "      <td>12.000000</td>\n",
       "      <td>0.000000</td>\n",
       "    </tr>\n",
       "    <tr>\n",
       "      <th>25%</th>\n",
       "      <td>2877.500000</td>\n",
       "      <td>0.000000</td>\n",
       "      <td>100.250000</td>\n",
       "      <td>360.000000</td>\n",
       "      <td>1.000000</td>\n",
       "    </tr>\n",
       "    <tr>\n",
       "      <th>50%</th>\n",
       "      <td>3812.500000</td>\n",
       "      <td>1188.500000</td>\n",
       "      <td>128.000000</td>\n",
       "      <td>360.000000</td>\n",
       "      <td>1.000000</td>\n",
       "    </tr>\n",
       "    <tr>\n",
       "      <th>75%</th>\n",
       "      <td>5795.000000</td>\n",
       "      <td>2297.250000</td>\n",
       "      <td>164.750000</td>\n",
       "      <td>360.000000</td>\n",
       "      <td>1.000000</td>\n",
       "    </tr>\n",
       "    <tr>\n",
       "      <th>max</th>\n",
       "      <td>81000.000000</td>\n",
       "      <td>41667.000000</td>\n",
       "      <td>700.000000</td>\n",
       "      <td>480.000000</td>\n",
       "      <td>1.000000</td>\n",
       "    </tr>\n",
       "  </tbody>\n",
       "</table>\n",
       "</div>"
      ],
      "text/plain": [
       "       ApplicantIncome  CoapplicantIncome  LoanAmount  Loan_Amount_Term  \\\n",
       "count       614.000000         614.000000  614.000000        614.000000   \n",
       "mean       5403.459283        1621.245798  145.752443        342.410423   \n",
       "std        6109.041673        2926.248369   84.107233         64.428629   \n",
       "min         150.000000           0.000000    9.000000         12.000000   \n",
       "25%        2877.500000           0.000000  100.250000        360.000000   \n",
       "50%        3812.500000        1188.500000  128.000000        360.000000   \n",
       "75%        5795.000000        2297.250000  164.750000        360.000000   \n",
       "max       81000.000000       41667.000000  700.000000        480.000000   \n",
       "\n",
       "       Credit_History  \n",
       "count      614.000000  \n",
       "mean         0.855049  \n",
       "std          0.352339  \n",
       "min          0.000000  \n",
       "25%          1.000000  \n",
       "50%          1.000000  \n",
       "75%          1.000000  \n",
       "max          1.000000  "
      ]
     },
     "execution_count": 16,
     "metadata": {},
     "output_type": "execute_result"
    }
   ],
   "source": [
    "df.describe()"
   ]
  },
  {
   "cell_type": "markdown",
   "metadata": {},
   "source": [
    "#### Observation:\n",
    "- Income Std deviation value is >median. So data is spread and skewed.\n",
    "- Outliers exist in Applicant Income, Coapplicant Income,Loan Amount.\n",
    "- Minimum Tenure for Loan is 12 Months and Maximum Loan tenure is 480 Months."
   ]
  },
  {
   "cell_type": "markdown",
   "metadata": {},
   "source": [
    "### Target Variable"
   ]
  },
  {
   "cell_type": "code",
   "execution_count": 17,
   "metadata": {},
   "outputs": [
    {
     "data": {
      "image/png": "[encoded data removed]",
      "text/plain": [
       "<Figure size 1296x576 with 2 Axes>"
      ]
     },
     "metadata": {
      "needs_background": "light"
     },
     "output_type": "display_data"
    }
   ],
   "source": [
    "plt.rcParams[\"figure.autolayout\"] = True\n",
    "sns.set_palette('husl')\n",
    "f,ax=plt.subplots(1,2,figsize=(18,8))\n",
    "df['Loan_Status'].value_counts().plot.pie(explode=[0,0.1],autopct='%2.1f%%',\n",
    "                                          textprops ={ 'fontweight': 'bold','fontsize':13}, ax=ax[0],shadow=True)\n",
    "ax[0].set_title('Loan Status', fontsize=20,fontweight ='bold')\n",
    "ax[0].set_ylabel('')\n",
    "sns.countplot(x='Loan_Status',data=df,ax=ax[1])\n",
    "ax[1].set_title('Loan Status',fontsize=20,fontweight ='bold')\n",
    "ax[1].set_xlabel(\"Loan Status\",fontsize=18,fontweight ='bold')\n",
    "plt.show()"
   ]
  },
  {
   "cell_type": "markdown",
   "metadata": {},
   "source": [
    "#### Observation :\n",
    "- 68.7% Applicants will get loan Approval.\n",
    "- Dataset is imbalanced in nature.\n"
   ]
  },
  {
   "cell_type": "markdown",
   "metadata": {},
   "source": [
    "### Gender Vs Loan Status"
   ]
  },
  {
   "cell_type": "code",
   "execution_count": 18,
   "metadata": {},
   "outputs": [
    {
     "data": {
      "image/png": "[encoded data removed]",
      "text/plain": [
       "<Figure size 1152x576 with 2 Axes>"
      ]
     },
     "metadata": {
      "needs_background": "light"
     },
     "output_type": "display_data"
    }
   ],
   "source": [
    "plt.rcParams[\"figure.autolayout\"] = True\n",
    "sns.set_palette('husl')\n",
    "f,ax=plt.subplots(1,2,figsize=(16,8))\n",
    "df['Gender'].value_counts().plot.pie(explode=[0,0.1],autopct='%2.1f%%',\n",
    "                                          textprops ={ 'fontweight': 'bold','fontsize':13}, ax=ax[0],shadow=True)\n",
    "ax[0].set_title('Gender', fontsize=20,fontweight ='bold')\n",
    "ax[0].set_ylabel('')\n",
    "sns.countplot(x='Gender',hue=\"Loan_Status\",data=df,ax=ax[1])\n",
    "ax[1].set_title('Gender Vs Loan Status',fontsize=20,fontweight ='bold')\n",
    "ax[1].set_xlabel(\"Loan Status\",fontsize=18,fontweight ='bold')\n",
    "plt.xticks(fontsize=14,fontweight ='bold')\n",
    "plt.tight_layout()\n",
    "plt.show()"
   ]
  },
  {
   "cell_type": "code",
   "execution_count": 19,
   "metadata": {},
   "outputs": [
    {
     "data": {
      "text/html": [
       "<style type=\"text/css\">\n",
       "#T_d0209_row0_col0, #T_d0209_row0_col1, #T_d0209_row0_col2 {\n",
       "  background-color: #ffff66;\n",
       "  color: #000000;\n",
       "}\n",
       "#T_d0209_row1_col0 {\n",
       "  background-color: #3d9e66;\n",
       "  color: #f1f1f1;\n",
       "}\n",
       "#T_d0209_row1_col1 {\n",
       "  background-color: #379b66;\n",
       "  color: #f1f1f1;\n",
       "}\n",
       "#T_d0209_row1_col2 {\n",
       "  background-color: #399c66;\n",
       "  color: #f1f1f1;\n",
       "}\n",
       "#T_d0209_row2_col0, #T_d0209_row2_col1, #T_d0209_row2_col2 {\n",
       "  background-color: #008066;\n",
       "  color: #f1f1f1;\n",
       "}\n",
       "</style>\n",
       "<table id=\"T_d0209\">\n",
       "  <thead>\n",
       "    <tr>\n",
       "      <th class=\"index_name level0\" >Loan_Status</th>\n",
       "      <th id=\"T_d0209_level0_col0\" class=\"col_heading level0 col0\" >N</th>\n",
       "      <th id=\"T_d0209_level0_col1\" class=\"col_heading level0 col1\" >Y</th>\n",
       "      <th id=\"T_d0209_level0_col2\" class=\"col_heading level0 col2\" >All</th>\n",
       "    </tr>\n",
       "    <tr>\n",
       "      <th class=\"index_name level0\" >Gender</th>\n",
       "      <th class=\"blank col0\" >&nbsp;</th>\n",
       "      <th class=\"blank col1\" >&nbsp;</th>\n",
       "      <th class=\"blank col2\" >&nbsp;</th>\n",
       "    </tr>\n",
       "  </thead>\n",
       "  <tbody>\n",
       "    <tr>\n",
       "      <th id=\"T_d0209_level0_row0\" class=\"row_heading level0 row0\" >Female</th>\n",
       "      <td id=\"T_d0209_row0_col0\" class=\"data row0 col0\" >37</td>\n",
       "      <td id=\"T_d0209_row0_col1\" class=\"data row0 col1\" >75</td>\n",
       "      <td id=\"T_d0209_row0_col2\" class=\"data row0 col2\" >112</td>\n",
       "    </tr>\n",
       "    <tr>\n",
       "      <th id=\"T_d0209_level0_row1\" class=\"row_heading level0 row1\" >Male</th>\n",
       "      <td id=\"T_d0209_row1_col0\" class=\"data row1 col0\" >155</td>\n",
       "      <td id=\"T_d0209_row1_col1\" class=\"data row1 col1\" >347</td>\n",
       "      <td id=\"T_d0209_row1_col2\" class=\"data row1 col2\" >502</td>\n",
       "    </tr>\n",
       "    <tr>\n",
       "      <th id=\"T_d0209_level0_row2\" class=\"row_heading level0 row2\" >All</th>\n",
       "      <td id=\"T_d0209_row2_col0\" class=\"data row2 col0\" >192</td>\n",
       "      <td id=\"T_d0209_row2_col1\" class=\"data row2 col1\" >422</td>\n",
       "      <td id=\"T_d0209_row2_col2\" class=\"data row2 col2\" >614</td>\n",
       "    </tr>\n",
       "  </tbody>\n",
       "</table>\n"
      ],
      "text/plain": [
       "<pandas.io.formats.style.Styler at 0x1bd845ade80>"
      ]
     },
     "execution_count": 19,
     "metadata": {},
     "output_type": "execute_result"
    }
   ],
   "source": [
    "pd.crosstab(df['Gender'],df[\"Loan_Status\"], margins=True).style.background_gradient(cmap='summer_r')"
   ]
  },
  {
   "cell_type": "markdown",
   "metadata": {},
   "source": [
    "#### Observation :\n",
    "- 81.8% Applicants are male.\n",
    "- 65 % Applicant from each gender gets loan approval. No Discrimation on name of Gender done."
   ]
  },
  {
   "cell_type": "markdown",
   "metadata": {},
   "source": [
    "### Married Vs Loan Status"
   ]
  },
  {
   "cell_type": "code",
   "execution_count": 20,
   "metadata": {},
   "outputs": [
    {
     "data": {
      "image/png": "[encoded data removed]",
      "text/plain": [
       "<Figure size 1152x576 with 2 Axes>"
      ]
     },
     "metadata": {
      "needs_background": "light"
     },
     "output_type": "display_data"
    }
   ],
   "source": [
    "plt.rcParams[\"figure.autolayout\"] = True\n",
    "sns.set_palette('husl')\n",
    "f,ax=plt.subplots(1,2,figsize=(16,8))\n",
    "df['Married'].value_counts().plot.pie(explode=[0,0.1],autopct='%2.1f%%',\n",
    "                                          textprops ={ 'fontweight': 'bold','fontsize':13}, ax=ax[0],shadow=True)\n",
    "ax[0].set_title('Married', fontsize=20,fontweight ='bold')\n",
    "ax[0].set_ylabel('')\n",
    "sns.countplot(x='Married',hue=\"Loan_Status\",data=df,ax=ax[1])\n",
    "ax[1].set_title('Married Vs Loan Status',fontsize=20,fontweight ='bold')\n",
    "ax[1].set_xlabel(\"Married\",fontsize=18,fontweight ='bold')\n",
    "plt.xticks(fontsize=14,fontweight ='bold')\n",
    "plt.tight_layout()\n",
    "plt.show()"
   ]
  },
  {
   "cell_type": "code",
   "execution_count": 21,
   "metadata": {},
   "outputs": [
    {
     "data": {
      "text/html": [
       "<style type=\"text/css\">\n",
       "#T_df160_row0_col0 {\n",
       "  background-color: #a100ff;\n",
       "  color: #f1f1f1;\n",
       "}\n",
       "#T_df160_row0_col1 {\n",
       "  background-color: #e200ff;\n",
       "  color: #f1f1f1;\n",
       "}\n",
       "#T_df160_row0_col2 {\n",
       "  background-color: #cd00ff;\n",
       "  color: #f1f1f1;\n",
       "}\n",
       "#T_df160_row1_col0, #T_df160_row1_col1, #T_df160_row1_col2 {\n",
       "  background-color: #ff00bf;\n",
       "  color: #f1f1f1;\n",
       "}\n",
       "#T_df160_row2_col0 {\n",
       "  background-color: #0400ff;\n",
       "  color: #f1f1f1;\n",
       "}\n",
       "#T_df160_row2_col1 {\n",
       "  background-color: #7600ff;\n",
       "  color: #f1f1f1;\n",
       "}\n",
       "#T_df160_row2_col2 {\n",
       "  background-color: #5000ff;\n",
       "  color: #f1f1f1;\n",
       "}\n",
       "#T_df160_row3_col0 {\n",
       "  background-color: #00ff66;\n",
       "  color: #000000;\n",
       "}\n",
       "#T_df160_row3_col1 {\n",
       "  background-color: #05ff00;\n",
       "  color: #000000;\n",
       "}\n",
       "#T_df160_row3_col2 {\n",
       "  background-color: #00ff1b;\n",
       "  color: #000000;\n",
       "}\n",
       "#T_df160_row4_col0, #T_df160_row4_col1, #T_df160_row4_col2 {\n",
       "  background-color: #ff0029;\n",
       "  color: #f1f1f1;\n",
       "}\n",
       "</style>\n",
       "<table id=\"T_df160\">\n",
       "  <thead>\n",
       "    <tr>\n",
       "      <th class=\"blank\" >&nbsp;</th>\n",
       "      <th class=\"index_name level0\" >Loan_Status</th>\n",
       "      <th id=\"T_df160_level0_col0\" class=\"col_heading level0 col0\" >N</th>\n",
       "      <th id=\"T_df160_level0_col1\" class=\"col_heading level0 col1\" >Y</th>\n",
       "      <th id=\"T_df160_level0_col2\" class=\"col_heading level0 col2\" >All</th>\n",
       "    </tr>\n",
       "    <tr>\n",
       "      <th class=\"index_name level0\" >Gender</th>\n",
       "      <th class=\"index_name level1\" >Married</th>\n",
       "      <th class=\"blank col0\" >&nbsp;</th>\n",
       "      <th class=\"blank col1\" >&nbsp;</th>\n",
       "      <th class=\"blank col2\" >&nbsp;</th>\n",
       "    </tr>\n",
       "  </thead>\n",
       "  <tbody>\n",
       "    <tr>\n",
       "      <th id=\"T_df160_level0_row0\" class=\"row_heading level0 row0\" rowspan=\"2\">Female</th>\n",
       "      <th id=\"T_df160_level1_row0\" class=\"row_heading level1 row0\" >No</th>\n",
       "      <td id=\"T_df160_row0_col0\" class=\"data row0 col0\" >29</td>\n",
       "      <td id=\"T_df160_row0_col1\" class=\"data row0 col1\" >51</td>\n",
       "      <td id=\"T_df160_row0_col2\" class=\"data row0 col2\" >80</td>\n",
       "    </tr>\n",
       "    <tr>\n",
       "      <th id=\"T_df160_level1_row1\" class=\"row_heading level1 row1\" >Yes</th>\n",
       "      <td id=\"T_df160_row1_col0\" class=\"data row1 col0\" >8</td>\n",
       "      <td id=\"T_df160_row1_col1\" class=\"data row1 col1\" >24</td>\n",
       "      <td id=\"T_df160_row1_col2\" class=\"data row1 col2\" >32</td>\n",
       "    </tr>\n",
       "    <tr>\n",
       "      <th id=\"T_df160_level0_row2\" class=\"row_heading level0 row2\" rowspan=\"2\">Male</th>\n",
       "      <th id=\"T_df160_level1_row2\" class=\"row_heading level1 row2\" >No</th>\n",
       "      <td id=\"T_df160_row2_col0\" class=\"data row2 col0\" >50</td>\n",
       "      <td id=\"T_df160_row2_col1\" class=\"data row2 col1\" >83</td>\n",
       "      <td id=\"T_df160_row2_col2\" class=\"data row2 col2\" >133</td>\n",
       "    </tr>\n",
       "    <tr>\n",
       "      <th id=\"T_df160_level1_row3\" class=\"row_heading level1 row3\" >Yes</th>\n",
       "      <td id=\"T_df160_row3_col0\" class=\"data row3 col0\" >105</td>\n",
       "      <td id=\"T_df160_row3_col1\" class=\"data row3 col1\" >264</td>\n",
       "      <td id=\"T_df160_row3_col2\" class=\"data row3 col2\" >369</td>\n",
       "    </tr>\n",
       "    <tr>\n",
       "      <th id=\"T_df160_level0_row4\" class=\"row_heading level0 row4\" >All</th>\n",
       "      <th id=\"T_df160_level1_row4\" class=\"row_heading level1 row4\" ></th>\n",
       "      <td id=\"T_df160_row4_col0\" class=\"data row4 col0\" >192</td>\n",
       "      <td id=\"T_df160_row4_col1\" class=\"data row4 col1\" >422</td>\n",
       "      <td id=\"T_df160_row4_col2\" class=\"data row4 col2\" >614</td>\n",
       "    </tr>\n",
       "  </tbody>\n",
       "</table>\n"
      ],
      "text/plain": [
       "<pandas.io.formats.style.Styler at 0x1bd8455de20>"
      ]
     },
     "execution_count": 21,
     "metadata": {},
     "output_type": "execute_result"
    }
   ],
   "source": [
    "pd.crosstab([df['Gender'],df['Married']],[df.Loan_Status],margins=True).style.background_gradient(cmap='gist_rainbow_r')"
   ]
  },
  {
   "cell_type": "markdown",
   "metadata": {},
   "source": [
    "#### Observation:\n",
    "- 65.3 % loan applicants are married.  Married people have more possibility of getting loan approval.\n",
    "- Unmarried Women are  getting more loan approvals compare to married women. \n",
    "- Married Men have more  loan approval.    \n"
   ]
  },
  {
   "cell_type": "code",
   "execution_count": 22,
   "metadata": {},
   "outputs": [
    {
     "data": {
      "image/png": "[encoded data removed]",
      "text/plain": [
       "<Figure size 1152x576 with 2 Axes>"
      ]
     },
     "metadata": {
      "needs_background": "light"
     },
     "output_type": "display_data"
    }
   ],
   "source": [
    "plt.rcParams[\"figure.autolayout\"] = True\n",
    "sns.set_palette('Set2')\n",
    "f,ax=plt.subplots(1,2,figsize=(16,8))\n",
    "df['Dependents'].value_counts().plot.pie(explode=[0,0.1,0.15,0.2],autopct='%2.1f%%',\n",
    "                                          textprops ={ 'fontweight': 'bold','fontsize':13}, ax=ax[0],shadow=True)\n",
    "ax[0].set_title('No. of Dependents', fontsize=20,fontweight ='bold')\n",
    "ax[0].set_ylabel('')\n",
    "sns.countplot(x='Dependents',hue=\"Loan_Status\",data=df,ax=ax[1])\n",
    "ax[1].set_title('No. of Dependents Vs Loan Status',fontsize=20,fontweight ='bold')\n",
    "ax[1].set_xlabel(\"Dependents\",fontsize=18,fontweight ='bold')\n",
    "plt.xticks(fontsize=14,fontweight ='bold')\n",
    "plt.tight_layout()\n",
    "plt.show()"
   ]
  },
  {
   "cell_type": "code",
   "execution_count": 23,
   "metadata": {},
   "outputs": [
    {
     "data": {
      "text/html": [
       "<style type=\"text/css\">\n",
       "#T_102fe_row0_col0 {\n",
       "  background-color: #49a466;\n",
       "  color: #f1f1f1;\n",
       "}\n",
       "#T_102fe_row0_col1 {\n",
       "  background-color: #7fbf66;\n",
       "  color: #000000;\n",
       "}\n",
       "#T_102fe_row0_col2 {\n",
       "  background-color: #41a066;\n",
       "  color: #f1f1f1;\n",
       "}\n",
       "#T_102fe_row0_col3 {\n",
       "  background-color: #7ebe66;\n",
       "  color: #000000;\n",
       "}\n",
       "#T_102fe_row0_col4 {\n",
       "  background-color: #73b966;\n",
       "  color: #f1f1f1;\n",
       "}\n",
       "#T_102fe_row1_col0 {\n",
       "  background-color: #e2f066;\n",
       "  color: #000000;\n",
       "}\n",
       "#T_102fe_row1_col1 {\n",
       "  background-color: #e6f266;\n",
       "  color: #000000;\n",
       "}\n",
       "#T_102fe_row1_col2 {\n",
       "  background-color: #d6eb66;\n",
       "  color: #000000;\n",
       "}\n",
       "#T_102fe_row1_col3 {\n",
       "  background-color: #eef666;\n",
       "  color: #000000;\n",
       "}\n",
       "#T_102fe_row1_col4 {\n",
       "  background-color: #e8f466;\n",
       "  color: #000000;\n",
       "}\n",
       "#T_102fe_row2_col0, #T_102fe_row3_col0, #T_102fe_row3_col1, #T_102fe_row3_col2, #T_102fe_row3_col3, #T_102fe_row3_col4 {\n",
       "  background-color: #ffff66;\n",
       "  color: #000000;\n",
       "}\n",
       "#T_102fe_row2_col1 {\n",
       "  background-color: #f3f966;\n",
       "  color: #000000;\n",
       "}\n",
       "#T_102fe_row2_col2 {\n",
       "  background-color: #f2f866;\n",
       "  color: #000000;\n",
       "}\n",
       "#T_102fe_row2_col3 {\n",
       "  background-color: #e0f066;\n",
       "  color: #000000;\n",
       "}\n",
       "#T_102fe_row2_col4 {\n",
       "  background-color: #e9f466;\n",
       "  color: #000000;\n",
       "}\n",
       "#T_102fe_row4_col0, #T_102fe_row4_col1, #T_102fe_row4_col2, #T_102fe_row4_col3, #T_102fe_row4_col4 {\n",
       "  background-color: #008066;\n",
       "  color: #f1f1f1;\n",
       "}\n",
       "</style>\n",
       "<table id=\"T_102fe\">\n",
       "  <thead>\n",
       "    <tr>\n",
       "      <th class=\"index_name level0\" >Loan_Status</th>\n",
       "      <th id=\"T_102fe_level0_col0\" class=\"col_heading level0 col0\" colspan=\"2\">N</th>\n",
       "      <th id=\"T_102fe_level0_col2\" class=\"col_heading level0 col2\" colspan=\"2\">Y</th>\n",
       "      <th id=\"T_102fe_level0_col4\" class=\"col_heading level0 col4\" >All</th>\n",
       "    </tr>\n",
       "    <tr>\n",
       "      <th class=\"index_name level1\" >Gender</th>\n",
       "      <th id=\"T_102fe_level1_col0\" class=\"col_heading level1 col0\" >Female</th>\n",
       "      <th id=\"T_102fe_level1_col1\" class=\"col_heading level1 col1\" >Male</th>\n",
       "      <th id=\"T_102fe_level1_col2\" class=\"col_heading level1 col2\" >Female</th>\n",
       "      <th id=\"T_102fe_level1_col3\" class=\"col_heading level1 col3\" >Male</th>\n",
       "      <th id=\"T_102fe_level1_col4\" class=\"col_heading level1 col4\" ></th>\n",
       "    </tr>\n",
       "    <tr>\n",
       "      <th class=\"index_name level0\" >Dependents</th>\n",
       "      <th class=\"blank col0\" >&nbsp;</th>\n",
       "      <th class=\"blank col1\" >&nbsp;</th>\n",
       "      <th class=\"blank col2\" >&nbsp;</th>\n",
       "      <th class=\"blank col3\" >&nbsp;</th>\n",
       "      <th class=\"blank col4\" >&nbsp;</th>\n",
       "    </tr>\n",
       "  </thead>\n",
       "  <tbody>\n",
       "    <tr>\n",
       "      <th id=\"T_102fe_level0_row0\" class=\"row_heading level0 row0\" >0</th>\n",
       "      <td id=\"T_102fe_row0_col0\" class=\"data row0 col0\" >27</td>\n",
       "      <td id=\"T_102fe_row0_col1\" class=\"data row0 col1\" >86</td>\n",
       "      <td id=\"T_102fe_row0_col2\" class=\"data row0 col2\" >56</td>\n",
       "      <td id=\"T_102fe_row0_col3\" class=\"data row0 col3\" >191</td>\n",
       "      <td id=\"T_102fe_row0_col4\" class=\"data row0 col4\" >360</td>\n",
       "    </tr>\n",
       "    <tr>\n",
       "      <th id=\"T_102fe_level0_row1\" class=\"row_heading level0 row1\" >1</th>\n",
       "      <td id=\"T_102fe_row1_col0\" class=\"data row1 col0\" >6</td>\n",
       "      <td id=\"T_102fe_row1_col1\" class=\"data row1 col1\" >30</td>\n",
       "      <td id=\"T_102fe_row1_col2\" class=\"data row1 col2\" >13</td>\n",
       "      <td id=\"T_102fe_row1_col3\" class=\"data row1 col3\" >53</td>\n",
       "      <td id=\"T_102fe_row1_col4\" class=\"data row1 col4\" >102</td>\n",
       "    </tr>\n",
       "    <tr>\n",
       "      <th id=\"T_102fe_level0_row2\" class=\"row_heading level0 row2\" >2</th>\n",
       "      <td id=\"T_102fe_row2_col0\" class=\"data row2 col0\" >2</td>\n",
       "      <td id=\"T_102fe_row2_col1\" class=\"data row2 col1\" >23</td>\n",
       "      <td id=\"T_102fe_row2_col2\" class=\"data row2 col2\" >5</td>\n",
       "      <td id=\"T_102fe_row2_col3\" class=\"data row2 col3\" >71</td>\n",
       "      <td id=\"T_102fe_row2_col4\" class=\"data row2 col4\" >101</td>\n",
       "    </tr>\n",
       "    <tr>\n",
       "      <th id=\"T_102fe_level0_row3\" class=\"row_heading level0 row3\" >3+</th>\n",
       "      <td id=\"T_102fe_row3_col0\" class=\"data row3 col0\" >2</td>\n",
       "      <td id=\"T_102fe_row3_col1\" class=\"data row3 col1\" >16</td>\n",
       "      <td id=\"T_102fe_row3_col2\" class=\"data row3 col2\" >1</td>\n",
       "      <td id=\"T_102fe_row3_col3\" class=\"data row3 col3\" >32</td>\n",
       "      <td id=\"T_102fe_row3_col4\" class=\"data row3 col4\" >51</td>\n",
       "    </tr>\n",
       "    <tr>\n",
       "      <th id=\"T_102fe_level0_row4\" class=\"row_heading level0 row4\" >All</th>\n",
       "      <td id=\"T_102fe_row4_col0\" class=\"data row4 col0\" >37</td>\n",
       "      <td id=\"T_102fe_row4_col1\" class=\"data row4 col1\" >155</td>\n",
       "      <td id=\"T_102fe_row4_col2\" class=\"data row4 col2\" >75</td>\n",
       "      <td id=\"T_102fe_row4_col3\" class=\"data row4 col3\" >347</td>\n",
       "      <td id=\"T_102fe_row4_col4\" class=\"data row4 col4\" >614</td>\n",
       "    </tr>\n",
       "  </tbody>\n",
       "</table>\n"
      ],
      "text/plain": [
       "<pandas.io.formats.style.Styler at 0x1bd84de5bb0>"
      ]
     },
     "execution_count": 23,
     "metadata": {},
     "output_type": "execute_result"
    }
   ],
   "source": [
    "pd.crosstab([df['Dependents']],[df.Loan_Status,df['Gender']],margins=True).style.background_gradient(cmap='summer_r')"
   ]
  },
  {
   "cell_type": "code",
   "execution_count": 24,
   "metadata": {},
   "outputs": [
    {
     "data": {
      "text/html": [
       "<style type=\"text/css\">\n",
       "#T_ca979_row0_col0, #T_ca979_row0_col1, #T_ca979_row0_col2, #T_ca979_row3_col2 {\n",
       "  background-color: #ddeaf7;\n",
       "  color: #000000;\n",
       "}\n",
       "#T_ca979_row1_col0 {\n",
       "  background-color: #82bbdb;\n",
       "  color: #000000;\n",
       "}\n",
       "#T_ca979_row1_col1 {\n",
       "  background-color: #7fb9da;\n",
       "  color: #000000;\n",
       "}\n",
       "#T_ca979_row1_col2 {\n",
       "  background-color: #81badb;\n",
       "  color: #000000;\n",
       "}\n",
       "#T_ca979_row2_col0 {\n",
       "  background-color: #f3f8fe;\n",
       "  color: #000000;\n",
       "}\n",
       "#T_ca979_row2_col1 {\n",
       "  background-color: #f2f7fd;\n",
       "  color: #000000;\n",
       "}\n",
       "#T_ca979_row2_col2 {\n",
       "  background-color: #f2f8fd;\n",
       "  color: #000000;\n",
       "}\n",
       "#T_ca979_row3_col0 {\n",
       "  background-color: #dae8f6;\n",
       "  color: #000000;\n",
       "}\n",
       "#T_ca979_row3_col1 {\n",
       "  background-color: #dfebf7;\n",
       "  color: #000000;\n",
       "}\n",
       "#T_ca979_row4_col0, #T_ca979_row6_col0, #T_ca979_row6_col1, #T_ca979_row6_col2 {\n",
       "  background-color: #f7fbff;\n",
       "  color: #000000;\n",
       "}\n",
       "#T_ca979_row4_col1 {\n",
       "  background-color: #f5fafe;\n",
       "  color: #000000;\n",
       "}\n",
       "#T_ca979_row4_col2 {\n",
       "  background-color: #f6faff;\n",
       "  color: #000000;\n",
       "}\n",
       "#T_ca979_row5_col0 {\n",
       "  background-color: #e1edf8;\n",
       "  color: #000000;\n",
       "}\n",
       "#T_ca979_row5_col1 {\n",
       "  background-color: #d6e6f4;\n",
       "  color: #000000;\n",
       "}\n",
       "#T_ca979_row5_col2 {\n",
       "  background-color: #d9e8f5;\n",
       "  color: #000000;\n",
       "}\n",
       "#T_ca979_row7_col0, #T_ca979_row7_col1, #T_ca979_row7_col2 {\n",
       "  background-color: #e9f2fa;\n",
       "  color: #000000;\n",
       "}\n",
       "#T_ca979_row8_col0, #T_ca979_row8_col1, #T_ca979_row8_col2 {\n",
       "  background-color: #08306b;\n",
       "  color: #f1f1f1;\n",
       "}\n",
       "</style>\n",
       "<table id=\"T_ca979\">\n",
       "  <thead>\n",
       "    <tr>\n",
       "      <th class=\"blank\" >&nbsp;</th>\n",
       "      <th class=\"index_name level0\" >Loan_Status</th>\n",
       "      <th id=\"T_ca979_level0_col0\" class=\"col_heading level0 col0\" >N</th>\n",
       "      <th id=\"T_ca979_level0_col1\" class=\"col_heading level0 col1\" >Y</th>\n",
       "      <th id=\"T_ca979_level0_col2\" class=\"col_heading level0 col2\" >All</th>\n",
       "    </tr>\n",
       "    <tr>\n",
       "      <th class=\"index_name level0\" >Dependents</th>\n",
       "      <th class=\"index_name level1\" >Gender</th>\n",
       "      <th class=\"blank col0\" >&nbsp;</th>\n",
       "      <th class=\"blank col1\" >&nbsp;</th>\n",
       "      <th class=\"blank col2\" >&nbsp;</th>\n",
       "    </tr>\n",
       "  </thead>\n",
       "  <tbody>\n",
       "    <tr>\n",
       "      <th id=\"T_ca979_level0_row0\" class=\"row_heading level0 row0\" rowspan=\"2\">0</th>\n",
       "      <th id=\"T_ca979_level1_row0\" class=\"row_heading level1 row0\" >Female</th>\n",
       "      <td id=\"T_ca979_row0_col0\" class=\"data row0 col0\" >27</td>\n",
       "      <td id=\"T_ca979_row0_col1\" class=\"data row0 col1\" >56</td>\n",
       "      <td id=\"T_ca979_row0_col2\" class=\"data row0 col2\" >83</td>\n",
       "    </tr>\n",
       "    <tr>\n",
       "      <th id=\"T_ca979_level1_row1\" class=\"row_heading level1 row1\" >Male</th>\n",
       "      <td id=\"T_ca979_row1_col0\" class=\"data row1 col0\" >86</td>\n",
       "      <td id=\"T_ca979_row1_col1\" class=\"data row1 col1\" >191</td>\n",
       "      <td id=\"T_ca979_row1_col2\" class=\"data row1 col2\" >277</td>\n",
       "    </tr>\n",
       "    <tr>\n",
       "      <th id=\"T_ca979_level0_row2\" class=\"row_heading level0 row2\" rowspan=\"2\">1</th>\n",
       "      <th id=\"T_ca979_level1_row2\" class=\"row_heading level1 row2\" >Female</th>\n",
       "      <td id=\"T_ca979_row2_col0\" class=\"data row2 col0\" >6</td>\n",
       "      <td id=\"T_ca979_row2_col1\" class=\"data row2 col1\" >13</td>\n",
       "      <td id=\"T_ca979_row2_col2\" class=\"data row2 col2\" >19</td>\n",
       "    </tr>\n",
       "    <tr>\n",
       "      <th id=\"T_ca979_level1_row3\" class=\"row_heading level1 row3\" >Male</th>\n",
       "      <td id=\"T_ca979_row3_col0\" class=\"data row3 col0\" >30</td>\n",
       "      <td id=\"T_ca979_row3_col1\" class=\"data row3 col1\" >53</td>\n",
       "      <td id=\"T_ca979_row3_col2\" class=\"data row3 col2\" >83</td>\n",
       "    </tr>\n",
       "    <tr>\n",
       "      <th id=\"T_ca979_level0_row4\" class=\"row_heading level0 row4\" rowspan=\"2\">2</th>\n",
       "      <th id=\"T_ca979_level1_row4\" class=\"row_heading level1 row4\" >Female</th>\n",
       "      <td id=\"T_ca979_row4_col0\" class=\"data row4 col0\" >2</td>\n",
       "      <td id=\"T_ca979_row4_col1\" class=\"data row4 col1\" >5</td>\n",
       "      <td id=\"T_ca979_row4_col2\" class=\"data row4 col2\" >7</td>\n",
       "    </tr>\n",
       "    <tr>\n",
       "      <th id=\"T_ca979_level1_row5\" class=\"row_heading level1 row5\" >Male</th>\n",
       "      <td id=\"T_ca979_row5_col0\" class=\"data row5 col0\" >23</td>\n",
       "      <td id=\"T_ca979_row5_col1\" class=\"data row5 col1\" >71</td>\n",
       "      <td id=\"T_ca979_row5_col2\" class=\"data row5 col2\" >94</td>\n",
       "    </tr>\n",
       "    <tr>\n",
       "      <th id=\"T_ca979_level0_row6\" class=\"row_heading level0 row6\" rowspan=\"2\">3+</th>\n",
       "      <th id=\"T_ca979_level1_row6\" class=\"row_heading level1 row6\" >Female</th>\n",
       "      <td id=\"T_ca979_row6_col0\" class=\"data row6 col0\" >2</td>\n",
       "      <td id=\"T_ca979_row6_col1\" class=\"data row6 col1\" >1</td>\n",
       "      <td id=\"T_ca979_row6_col2\" class=\"data row6 col2\" >3</td>\n",
       "    </tr>\n",
       "    <tr>\n",
       "      <th id=\"T_ca979_level1_row7\" class=\"row_heading level1 row7\" >Male</th>\n",
       "      <td id=\"T_ca979_row7_col0\" class=\"data row7 col0\" >16</td>\n",
       "      <td id=\"T_ca979_row7_col1\" class=\"data row7 col1\" >32</td>\n",
       "      <td id=\"T_ca979_row7_col2\" class=\"data row7 col2\" >48</td>\n",
       "    </tr>\n",
       "    <tr>\n",
       "      <th id=\"T_ca979_level0_row8\" class=\"row_heading level0 row8\" >All</th>\n",
       "      <th id=\"T_ca979_level1_row8\" class=\"row_heading level1 row8\" ></th>\n",
       "      <td id=\"T_ca979_row8_col0\" class=\"data row8 col0\" >192</td>\n",
       "      <td id=\"T_ca979_row8_col1\" class=\"data row8 col1\" >422</td>\n",
       "      <td id=\"T_ca979_row8_col2\" class=\"data row8 col2\" >614</td>\n",
       "    </tr>\n",
       "  </tbody>\n",
       "</table>\n"
      ],
      "text/plain": [
       "<pandas.io.formats.style.Styler at 0x1bd84f4f220>"
      ]
     },
     "execution_count": 24,
     "metadata": {},
     "output_type": "execute_result"
    }
   ],
   "source": [
    "pd.crosstab([df['Dependents'],df['Gender']],[df.Loan_Status],margins=True).style.background_gradient(cmap='Blues')"
   ]
  },
  {
   "cell_type": "markdown",
   "metadata": {},
   "source": [
    "#### Observation:\n",
    "- 58.6% Applicants have no dependents on them.\n",
    "- 33% Applicants have either 1 or 2 dependents.\n",
    "- Female with having zero dependents have more chances to get loan approval compare to Females with dependents.\n",
    "- For male Maximum loan approval comes with 0 dependents followed by 2 dependents."
   ]
  },
  {
   "cell_type": "code",
   "execution_count": 25,
   "metadata": {},
   "outputs": [
    {
     "data": {
      "text/html": [
       "<div>\n",
       "<style scoped>\n",
       "    .dataframe tbody tr th:only-of-type {\n",
       "        vertical-align: middle;\n",
       "    }\n",
       "\n",
       "    .dataframe tbody tr th {\n",
       "        vertical-align: top;\n",
       "    }\n",
       "\n",
       "    .dataframe thead th {\n",
       "        text-align: right;\n",
       "    }\n",
       "</style>\n",
       "<table border=\"1\" class=\"dataframe\">\n",
       "  <thead>\n",
       "    <tr style=\"text-align: right;\">\n",
       "      <th></th>\n",
       "      <th>Loan_ID</th>\n",
       "      <th>Gender</th>\n",
       "      <th>Married</th>\n",
       "      <th>Dependents</th>\n",
       "      <th>Education</th>\n",
       "      <th>Self_Employed</th>\n",
       "      <th>ApplicantIncome</th>\n",
       "      <th>CoapplicantIncome</th>\n",
       "      <th>LoanAmount</th>\n",
       "      <th>Loan_Amount_Term</th>\n",
       "      <th>Credit_History</th>\n",
       "      <th>Property_Area</th>\n",
       "      <th>Loan_Status</th>\n",
       "    </tr>\n",
       "  </thead>\n",
       "  <tbody>\n",
       "    <tr>\n",
       "      <th>0</th>\n",
       "      <td>LP001002</td>\n",
       "      <td>Male</td>\n",
       "      <td>No</td>\n",
       "      <td>0</td>\n",
       "      <td>Graduate</td>\n",
       "      <td>No</td>\n",
       "      <td>5849</td>\n",
       "      <td>0.0</td>\n",
       "      <td>128.0</td>\n",
       "      <td>360.0</td>\n",
       "      <td>1.0</td>\n",
       "      <td>Urban</td>\n",
       "      <td>Y</td>\n",
       "    </tr>\n",
       "    <tr>\n",
       "      <th>1</th>\n",
       "      <td>LP001003</td>\n",
       "      <td>Male</td>\n",
       "      <td>Yes</td>\n",
       "      <td>1</td>\n",
       "      <td>Graduate</td>\n",
       "      <td>No</td>\n",
       "      <td>4583</td>\n",
       "      <td>1508.0</td>\n",
       "      <td>128.0</td>\n",
       "      <td>360.0</td>\n",
       "      <td>1.0</td>\n",
       "      <td>Rural</td>\n",
       "      <td>N</td>\n",
       "    </tr>\n",
       "    <tr>\n",
       "      <th>2</th>\n",
       "      <td>LP001005</td>\n",
       "      <td>Male</td>\n",
       "      <td>Yes</td>\n",
       "      <td>0</td>\n",
       "      <td>Graduate</td>\n",
       "      <td>Yes</td>\n",
       "      <td>3000</td>\n",
       "      <td>0.0</td>\n",
       "      <td>66.0</td>\n",
       "      <td>360.0</td>\n",
       "      <td>1.0</td>\n",
       "      <td>Urban</td>\n",
       "      <td>Y</td>\n",
       "    </tr>\n",
       "    <tr>\n",
       "      <th>3</th>\n",
       "      <td>LP001006</td>\n",
       "      <td>Male</td>\n",
       "      <td>Yes</td>\n",
       "      <td>0</td>\n",
       "      <td>Not Graduate</td>\n",
       "      <td>No</td>\n",
       "      <td>2583</td>\n",
       "      <td>2358.0</td>\n",
       "      <td>120.0</td>\n",
       "      <td>360.0</td>\n",
       "      <td>1.0</td>\n",
       "      <td>Urban</td>\n",
       "      <td>Y</td>\n",
       "    </tr>\n",
       "    <tr>\n",
       "      <th>4</th>\n",
       "      <td>LP001008</td>\n",
       "      <td>Male</td>\n",
       "      <td>No</td>\n",
       "      <td>0</td>\n",
       "      <td>Graduate</td>\n",
       "      <td>No</td>\n",
       "      <td>6000</td>\n",
       "      <td>0.0</td>\n",
       "      <td>141.0</td>\n",
       "      <td>360.0</td>\n",
       "      <td>1.0</td>\n",
       "      <td>Urban</td>\n",
       "      <td>Y</td>\n",
       "    </tr>\n",
       "  </tbody>\n",
       "</table>\n",
       "</div>"
      ],
      "text/plain": [
       "    Loan_ID Gender Married Dependents     Education Self_Employed  \\\n",
       "0  LP001002   Male      No          0      Graduate            No   \n",
       "1  LP001003   Male     Yes          1      Graduate            No   \n",
       "2  LP001005   Male     Yes          0      Graduate           Yes   \n",
       "3  LP001006   Male     Yes          0  Not Graduate            No   \n",
       "4  LP001008   Male      No          0      Graduate            No   \n",
       "\n",
       "   ApplicantIncome  CoapplicantIncome  LoanAmount  Loan_Amount_Term  \\\n",
       "0             5849                0.0       128.0             360.0   \n",
       "1             4583             1508.0       128.0             360.0   \n",
       "2             3000                0.0        66.0             360.0   \n",
       "3             2583             2358.0       120.0             360.0   \n",
       "4             6000                0.0       141.0             360.0   \n",
       "\n",
       "   Credit_History Property_Area Loan_Status  \n",
       "0             1.0         Urban           Y  \n",
       "1             1.0         Rural           N  \n",
       "2             1.0         Urban           Y  \n",
       "3             1.0         Urban           Y  \n",
       "4             1.0         Urban           Y  "
      ]
     },
     "execution_count": 25,
     "metadata": {},
     "output_type": "execute_result"
    }
   ],
   "source": [
    "df.head()"
   ]
  },
  {
   "cell_type": "markdown",
   "metadata": {},
   "source": [
    "### Education Vs Loan status"
   ]
  },
  {
   "cell_type": "code",
   "execution_count": 26,
   "metadata": {},
   "outputs": [
    {
     "data": {
      "image/png": "[encoded data removed]",
      "text/plain": [
       "<Figure size 1152x576 with 2 Axes>"
      ]
     },
     "metadata": {
      "needs_background": "light"
     },
     "output_type": "display_data"
    }
   ],
   "source": [
    "plt.rcParams[\"figure.autolayout\"] = True\n",
    "sns.set_palette('prism')\n",
    "f,ax=plt.subplots(1,2,figsize=(16,8))\n",
    "df['Education'].value_counts().plot.pie(explode=[0,0.1],autopct='%2.1f%%',\n",
    "                                          textprops ={ 'fontweight': 'bold','fontsize':13}, ax=ax[0],shadow=True)\n",
    "ax[0].set_title('Education', fontsize=20,fontweight ='bold')\n",
    "ax[0].set_ylabel('')\n",
    "sns.countplot(x='Education',hue=\"Loan_Status\",data=df,ax=ax[1])\n",
    "ax[1].set_title('Education Vs Loan Status',fontsize=20,fontweight ='bold')\n",
    "ax[1].set_xlabel(\"Education\",fontsize=18,fontweight ='bold')\n",
    "plt.xticks(fontsize=14,fontweight ='bold')\n",
    "plt.tight_layout()\n",
    "plt.show()"
   ]
  },
  {
   "cell_type": "code",
   "execution_count": 27,
   "metadata": {},
   "outputs": [
    {
     "data": {
      "text/html": [
       "<style type=\"text/css\">\n",
       "#T_2a97e_row0_col0 {\n",
       "  background-color: #dceaf6;\n",
       "  color: #000000;\n",
       "}\n",
       "#T_2a97e_row0_col1 {\n",
       "  background-color: #e0ecf8;\n",
       "  color: #000000;\n",
       "}\n",
       "#T_2a97e_row0_col2 {\n",
       "  background-color: #dfebf7;\n",
       "  color: #000000;\n",
       "}\n",
       "#T_2a97e_row1_col0 {\n",
       "  background-color: #5aa2cf;\n",
       "  color: #f1f1f1;\n",
       "}\n",
       "#T_2a97e_row1_col1 {\n",
       "  background-color: #3b8bc2;\n",
       "  color: #f1f1f1;\n",
       "}\n",
       "#T_2a97e_row1_col2 {\n",
       "  background-color: #4493c7;\n",
       "  color: #f1f1f1;\n",
       "}\n",
       "#T_2a97e_row2_col0, #T_2a97e_row2_col1, #T_2a97e_row2_col2 {\n",
       "  background-color: #f7fbff;\n",
       "  color: #000000;\n",
       "}\n",
       "#T_2a97e_row3_col0 {\n",
       "  background-color: #cddff1;\n",
       "  color: #000000;\n",
       "}\n",
       "#T_2a97e_row3_col1 {\n",
       "  background-color: #ddeaf7;\n",
       "  color: #000000;\n",
       "}\n",
       "#T_2a97e_row3_col2 {\n",
       "  background-color: #d8e7f5;\n",
       "  color: #000000;\n",
       "}\n",
       "#T_2a97e_row4_col0, #T_2a97e_row4_col1, #T_2a97e_row4_col2 {\n",
       "  background-color: #08306b;\n",
       "  color: #f1f1f1;\n",
       "}\n",
       "</style>\n",
       "<table id=\"T_2a97e\">\n",
       "  <thead>\n",
       "    <tr>\n",
       "      <th class=\"blank\" >&nbsp;</th>\n",
       "      <th class=\"index_name level0\" >Loan_Status</th>\n",
       "      <th id=\"T_2a97e_level0_col0\" class=\"col_heading level0 col0\" >N</th>\n",
       "      <th id=\"T_2a97e_level0_col1\" class=\"col_heading level0 col1\" >Y</th>\n",
       "      <th id=\"T_2a97e_level0_col2\" class=\"col_heading level0 col2\" >All</th>\n",
       "    </tr>\n",
       "    <tr>\n",
       "      <th class=\"index_name level0\" >Education</th>\n",
       "      <th class=\"index_name level1\" >Gender</th>\n",
       "      <th class=\"blank col0\" >&nbsp;</th>\n",
       "      <th class=\"blank col1\" >&nbsp;</th>\n",
       "      <th class=\"blank col2\" >&nbsp;</th>\n",
       "    </tr>\n",
       "  </thead>\n",
       "  <tbody>\n",
       "    <tr>\n",
       "      <th id=\"T_2a97e_level0_row0\" class=\"row_heading level0 row0\" rowspan=\"2\">Graduate</th>\n",
       "      <th id=\"T_2a97e_level1_row0\" class=\"row_heading level1 row0\" >Female</th>\n",
       "      <td id=\"T_2a97e_row0_col0\" class=\"data row0 col0\" >31</td>\n",
       "      <td id=\"T_2a97e_row0_col1\" class=\"data row0 col1\" >61</td>\n",
       "      <td id=\"T_2a97e_row0_col2\" class=\"data row0 col2\" >92</td>\n",
       "    </tr>\n",
       "    <tr>\n",
       "      <th id=\"T_2a97e_level1_row1\" class=\"row_heading level1 row1\" >Male</th>\n",
       "      <td id=\"T_2a97e_row1_col0\" class=\"data row1 col0\" >109</td>\n",
       "      <td id=\"T_2a97e_row1_col1\" class=\"data row1 col1\" >279</td>\n",
       "      <td id=\"T_2a97e_row1_col2\" class=\"data row1 col2\" >388</td>\n",
       "    </tr>\n",
       "    <tr>\n",
       "      <th id=\"T_2a97e_level0_row2\" class=\"row_heading level0 row2\" rowspan=\"2\">Not Graduate</th>\n",
       "      <th id=\"T_2a97e_level1_row2\" class=\"row_heading level1 row2\" >Female</th>\n",
       "      <td id=\"T_2a97e_row2_col0\" class=\"data row2 col0\" >6</td>\n",
       "      <td id=\"T_2a97e_row2_col1\" class=\"data row2 col1\" >14</td>\n",
       "      <td id=\"T_2a97e_row2_col2\" class=\"data row2 col2\" >20</td>\n",
       "    </tr>\n",
       "    <tr>\n",
       "      <th id=\"T_2a97e_level1_row3\" class=\"row_heading level1 row3\" >Male</th>\n",
       "      <td id=\"T_2a97e_row3_col0\" class=\"data row3 col0\" >46</td>\n",
       "      <td id=\"T_2a97e_row3_col1\" class=\"data row3 col1\" >68</td>\n",
       "      <td id=\"T_2a97e_row3_col2\" class=\"data row3 col2\" >114</td>\n",
       "    </tr>\n",
       "    <tr>\n",
       "      <th id=\"T_2a97e_level0_row4\" class=\"row_heading level0 row4\" >All</th>\n",
       "      <th id=\"T_2a97e_level1_row4\" class=\"row_heading level1 row4\" ></th>\n",
       "      <td id=\"T_2a97e_row4_col0\" class=\"data row4 col0\" >192</td>\n",
       "      <td id=\"T_2a97e_row4_col1\" class=\"data row4 col1\" >422</td>\n",
       "      <td id=\"T_2a97e_row4_col2\" class=\"data row4 col2\" >614</td>\n",
       "    </tr>\n",
       "  </tbody>\n",
       "</table>\n"
      ],
      "text/plain": [
       "<pandas.io.formats.style.Styler at 0x1bd855dc880>"
      ]
     },
     "execution_count": 27,
     "metadata": {},
     "output_type": "execute_result"
    }
   ],
   "source": [
    "pd.crosstab([df['Education'],df['Gender']],[df.Loan_Status],margins=True).style.background_gradient(cmap='Blues')"
   ]
  },
  {
   "cell_type": "markdown",
   "metadata": {},
   "source": [
    "#### Comment:\n",
    "- Graduate applicants are more likely to get loan approval irrespective gender."
   ]
  },
  {
   "cell_type": "code",
   "execution_count": 28,
   "metadata": {},
   "outputs": [
    {
     "data": {
      "text/html": [
       "<div>\n",
       "<style scoped>\n",
       "    .dataframe tbody tr th:only-of-type {\n",
       "        vertical-align: middle;\n",
       "    }\n",
       "\n",
       "    .dataframe tbody tr th {\n",
       "        vertical-align: top;\n",
       "    }\n",
       "\n",
       "    .dataframe thead th {\n",
       "        text-align: right;\n",
       "    }\n",
       "</style>\n",
       "<table border=\"1\" class=\"dataframe\">\n",
       "  <thead>\n",
       "    <tr style=\"text-align: right;\">\n",
       "      <th></th>\n",
       "      <th>Loan_ID</th>\n",
       "      <th>Gender</th>\n",
       "      <th>Married</th>\n",
       "      <th>Dependents</th>\n",
       "      <th>Education</th>\n",
       "      <th>Self_Employed</th>\n",
       "      <th>ApplicantIncome</th>\n",
       "      <th>CoapplicantIncome</th>\n",
       "      <th>LoanAmount</th>\n",
       "      <th>Loan_Amount_Term</th>\n",
       "      <th>Credit_History</th>\n",
       "      <th>Property_Area</th>\n",
       "      <th>Loan_Status</th>\n",
       "    </tr>\n",
       "  </thead>\n",
       "  <tbody>\n",
       "    <tr>\n",
       "      <th>0</th>\n",
       "      <td>LP001002</td>\n",
       "      <td>Male</td>\n",
       "      <td>No</td>\n",
       "      <td>0</td>\n",
       "      <td>Graduate</td>\n",
       "      <td>No</td>\n",
       "      <td>5849</td>\n",
       "      <td>0.0</td>\n",
       "      <td>128.0</td>\n",
       "      <td>360.0</td>\n",
       "      <td>1.0</td>\n",
       "      <td>Urban</td>\n",
       "      <td>Y</td>\n",
       "    </tr>\n",
       "    <tr>\n",
       "      <th>1</th>\n",
       "      <td>LP001003</td>\n",
       "      <td>Male</td>\n",
       "      <td>Yes</td>\n",
       "      <td>1</td>\n",
       "      <td>Graduate</td>\n",
       "      <td>No</td>\n",
       "      <td>4583</td>\n",
       "      <td>1508.0</td>\n",
       "      <td>128.0</td>\n",
       "      <td>360.0</td>\n",
       "      <td>1.0</td>\n",
       "      <td>Rural</td>\n",
       "      <td>N</td>\n",
       "    </tr>\n",
       "    <tr>\n",
       "      <th>2</th>\n",
       "      <td>LP001005</td>\n",
       "      <td>Male</td>\n",
       "      <td>Yes</td>\n",
       "      <td>0</td>\n",
       "      <td>Graduate</td>\n",
       "      <td>Yes</td>\n",
       "      <td>3000</td>\n",
       "      <td>0.0</td>\n",
       "      <td>66.0</td>\n",
       "      <td>360.0</td>\n",
       "      <td>1.0</td>\n",
       "      <td>Urban</td>\n",
       "      <td>Y</td>\n",
       "    </tr>\n",
       "    <tr>\n",
       "      <th>3</th>\n",
       "      <td>LP001006</td>\n",
       "      <td>Male</td>\n",
       "      <td>Yes</td>\n",
       "      <td>0</td>\n",
       "      <td>Not Graduate</td>\n",
       "      <td>No</td>\n",
       "      <td>2583</td>\n",
       "      <td>2358.0</td>\n",
       "      <td>120.0</td>\n",
       "      <td>360.0</td>\n",
       "      <td>1.0</td>\n",
       "      <td>Urban</td>\n",
       "      <td>Y</td>\n",
       "    </tr>\n",
       "    <tr>\n",
       "      <th>4</th>\n",
       "      <td>LP001008</td>\n",
       "      <td>Male</td>\n",
       "      <td>No</td>\n",
       "      <td>0</td>\n",
       "      <td>Graduate</td>\n",
       "      <td>No</td>\n",
       "      <td>6000</td>\n",
       "      <td>0.0</td>\n",
       "      <td>141.0</td>\n",
       "      <td>360.0</td>\n",
       "      <td>1.0</td>\n",
       "      <td>Urban</td>\n",
       "      <td>Y</td>\n",
       "    </tr>\n",
       "  </tbody>\n",
       "</table>\n",
       "</div>"
      ],
      "text/plain": [
       "    Loan_ID Gender Married Dependents     Education Self_Employed  \\\n",
       "0  LP001002   Male      No          0      Graduate            No   \n",
       "1  LP001003   Male     Yes          1      Graduate            No   \n",
       "2  LP001005   Male     Yes          0      Graduate           Yes   \n",
       "3  LP001006   Male     Yes          0  Not Graduate            No   \n",
       "4  LP001008   Male      No          0      Graduate            No   \n",
       "\n",
       "   ApplicantIncome  CoapplicantIncome  LoanAmount  Loan_Amount_Term  \\\n",
       "0             5849                0.0       128.0             360.0   \n",
       "1             4583             1508.0       128.0             360.0   \n",
       "2             3000                0.0        66.0             360.0   \n",
       "3             2583             2358.0       120.0             360.0   \n",
       "4             6000                0.0       141.0             360.0   \n",
       "\n",
       "   Credit_History Property_Area Loan_Status  \n",
       "0             1.0         Urban           Y  \n",
       "1             1.0         Rural           N  \n",
       "2             1.0         Urban           Y  \n",
       "3             1.0         Urban           Y  \n",
       "4             1.0         Urban           Y  "
      ]
     },
     "execution_count": 28,
     "metadata": {},
     "output_type": "execute_result"
    }
   ],
   "source": [
    "df.head()"
   ]
  },
  {
   "cell_type": "markdown",
   "metadata": {},
   "source": [
    "# Encoding categorical data"
   ]
  },
  {
   "cell_type": "code",
   "execution_count": 29,
   "metadata": {},
   "outputs": [],
   "source": [
    "Category=['Gender','Married','Education','Self_Employed','Property_Area','Loan_Status']"
   ]
  },
  {
   "cell_type": "code",
   "execution_count": 30,
   "metadata": {},
   "outputs": [
    {
     "data": {
      "text/html": [
       "<div>\n",
       "<style scoped>\n",
       "    .dataframe tbody tr th:only-of-type {\n",
       "        vertical-align: middle;\n",
       "    }\n",
       "\n",
       "    .dataframe tbody tr th {\n",
       "        vertical-align: top;\n",
       "    }\n",
       "\n",
       "    .dataframe thead th {\n",
       "        text-align: right;\n",
       "    }\n",
       "</style>\n",
       "<table border=\"1\" class=\"dataframe\">\n",
       "  <thead>\n",
       "    <tr style=\"text-align: right;\">\n",
       "      <th></th>\n",
       "      <th>Loan_ID</th>\n",
       "      <th>Gender</th>\n",
       "      <th>Married</th>\n",
       "      <th>Dependents</th>\n",
       "      <th>Education</th>\n",
       "      <th>Self_Employed</th>\n",
       "      <th>ApplicantIncome</th>\n",
       "      <th>CoapplicantIncome</th>\n",
       "      <th>LoanAmount</th>\n",
       "      <th>Loan_Amount_Term</th>\n",
       "      <th>Credit_History</th>\n",
       "      <th>Property_Area</th>\n",
       "      <th>Loan_Status</th>\n",
       "    </tr>\n",
       "  </thead>\n",
       "  <tbody>\n",
       "    <tr>\n",
       "      <th>0</th>\n",
       "      <td>LP001002</td>\n",
       "      <td>1</td>\n",
       "      <td>0</td>\n",
       "      <td>0</td>\n",
       "      <td>0</td>\n",
       "      <td>0</td>\n",
       "      <td>5849</td>\n",
       "      <td>0.0</td>\n",
       "      <td>128.0</td>\n",
       "      <td>360.0</td>\n",
       "      <td>1.0</td>\n",
       "      <td>2</td>\n",
       "      <td>1</td>\n",
       "    </tr>\n",
       "    <tr>\n",
       "      <th>1</th>\n",
       "      <td>LP001003</td>\n",
       "      <td>1</td>\n",
       "      <td>1</td>\n",
       "      <td>1</td>\n",
       "      <td>0</td>\n",
       "      <td>0</td>\n",
       "      <td>4583</td>\n",
       "      <td>1508.0</td>\n",
       "      <td>128.0</td>\n",
       "      <td>360.0</td>\n",
       "      <td>1.0</td>\n",
       "      <td>0</td>\n",
       "      <td>0</td>\n",
       "    </tr>\n",
       "    <tr>\n",
       "      <th>2</th>\n",
       "      <td>LP001005</td>\n",
       "      <td>1</td>\n",
       "      <td>1</td>\n",
       "      <td>0</td>\n",
       "      <td>0</td>\n",
       "      <td>1</td>\n",
       "      <td>3000</td>\n",
       "      <td>0.0</td>\n",
       "      <td>66.0</td>\n",
       "      <td>360.0</td>\n",
       "      <td>1.0</td>\n",
       "      <td>2</td>\n",
       "      <td>1</td>\n",
       "    </tr>\n",
       "    <tr>\n",
       "      <th>3</th>\n",
       "      <td>LP001006</td>\n",
       "      <td>1</td>\n",
       "      <td>1</td>\n",
       "      <td>0</td>\n",
       "      <td>1</td>\n",
       "      <td>0</td>\n",
       "      <td>2583</td>\n",
       "      <td>2358.0</td>\n",
       "      <td>120.0</td>\n",
       "      <td>360.0</td>\n",
       "      <td>1.0</td>\n",
       "      <td>2</td>\n",
       "      <td>1</td>\n",
       "    </tr>\n",
       "    <tr>\n",
       "      <th>4</th>\n",
       "      <td>LP001008</td>\n",
       "      <td>1</td>\n",
       "      <td>0</td>\n",
       "      <td>0</td>\n",
       "      <td>0</td>\n",
       "      <td>0</td>\n",
       "      <td>6000</td>\n",
       "      <td>0.0</td>\n",
       "      <td>141.0</td>\n",
       "      <td>360.0</td>\n",
       "      <td>1.0</td>\n",
       "      <td>2</td>\n",
       "      <td>1</td>\n",
       "    </tr>\n",
       "  </tbody>\n",
       "</table>\n",
       "</div>"
      ],
      "text/plain": [
       "    Loan_ID  Gender  Married Dependents  Education  Self_Employed  \\\n",
       "0  LP001002       1        0          0          0              0   \n",
       "1  LP001003       1        1          1          0              0   \n",
       "2  LP001005       1        1          0          0              1   \n",
       "3  LP001006       1        1          0          1              0   \n",
       "4  LP001008       1        0          0          0              0   \n",
       "\n",
       "   ApplicantIncome  CoapplicantIncome  LoanAmount  Loan_Amount_Term  \\\n",
       "0             5849                0.0       128.0             360.0   \n",
       "1             4583             1508.0       128.0             360.0   \n",
       "2             3000                0.0        66.0             360.0   \n",
       "3             2583             2358.0       120.0             360.0   \n",
       "4             6000                0.0       141.0             360.0   \n",
       "\n",
       "   Credit_History  Property_Area  Loan_Status  \n",
       "0             1.0              2            1  \n",
       "1             1.0              0            0  \n",
       "2             1.0              2            1  \n",
       "3             1.0              2            1  \n",
       "4             1.0              2            1  "
      ]
     },
     "execution_count": 30,
     "metadata": {},
     "output_type": "execute_result"
    }
   ],
   "source": [
    "# Using Label Encoder on categorical variable\n",
    "from sklearn.preprocessing import LabelEncoder\n",
    "le = LabelEncoder()\n",
    "for i in Category:\n",
    "    df[i] = le.fit_transform(df[i])\n",
    "df.head()"
   ]
  },
  {
   "cell_type": "markdown",
   "metadata": {},
   "source": [
    "# Feature selection and Engineering"
   ]
  },
  {
   "cell_type": "markdown",
   "metadata": {},
   "source": [
    "## 1. Outliers Detection and Removal"
   ]
  },
  {
   "cell_type": "code",
   "execution_count": 31,
   "metadata": {},
   "outputs": [],
   "source": [
    "Numerical =['ApplicantIncome','CoapplicantIncome','LoanAmount','Loan_Amount_Term']"
   ]
  },
  {
   "cell_type": "code",
   "execution_count": 32,
   "metadata": {},
   "outputs": [
    {
     "data": {
      "image/png": "[encoded data removed]",
      "text/plain": [
       "<Figure size 864x576 with 4 Axes>"
      ]
     },
     "metadata": {},
     "output_type": "display_data"
    }
   ],
   "source": [
    "plt.figure(figsize=(12,8),facecolor='white')\n",
    "plotnumber=1\n",
    "\n",
    "for column in Numerical:\n",
    "    if plotnumber<=4:\n",
    "        ax=plt.subplot(2,2,plotnumber)\n",
    "        sns.boxplot(df[column],color='c')\n",
    "        plt.xlabel(column,fontsize=20)\n",
    "    plotnumber+=1\n",
    "plt.tight_layout()\n",
    "plt.show()"
   ]
  },
  {
   "cell_type": "markdown",
   "metadata": {},
   "source": [
    "<b> From Boxplot we can see outliers exist dataset.</b>"
   ]
  },
  {
   "cell_type": "code",
   "execution_count": 33,
   "metadata": {},
   "outputs": [],
   "source": [
    "# Droping unnecessary columns\n",
    "df.drop([\"Loan_ID\"], axis=1, inplace=True)"
   ]
  },
  {
   "cell_type": "code",
   "execution_count": 34,
   "metadata": {},
   "outputs": [],
   "source": [
    "df['Dependents'] = df.Dependents.map({'0':0,'1':1,'2':2,'3+':3})"
   ]
  },
  {
   "cell_type": "code",
   "execution_count": 35,
   "metadata": {},
   "outputs": [],
   "source": [
    "df['Dependents'] =pd.to_numeric(df['Dependents'])"
   ]
  },
  {
   "cell_type": "code",
   "execution_count": 36,
   "metadata": {},
   "outputs": [
    {
     "name": "stdout",
     "output_type": "stream",
     "text": [
      "Shape of the dataframe before removing outliers:  (614, 12)\n",
      "Shape of the dataframe after removing outliers:  (577, 12)\n",
      "Percentage of data loss post outlier removal:  6.026058631921824\n"
     ]
    }
   ],
   "source": [
    "from scipy.stats import zscore\n",
    "z = np.abs(zscore(df))\n",
    "threshold = 3\n",
    "df1 = df[(z<3).all(axis = 1)]\n",
    "\n",
    "print (\"Shape of the dataframe before removing outliers: \", df.shape)\n",
    "print (\"Shape of the dataframe after removing outliers: \", df1.shape)\n",
    "print (\"Percentage of data loss post outlier removal: \", (df.shape[0]-df1.shape[0])/df.shape[0]*100)\n",
    "\n",
    "df=df1.copy() # Copy of the changed dataframe name to our original dataframe name"
   ]
  },
  {
   "cell_type": "markdown",
   "metadata": {},
   "source": [
    "##### Data Loss"
   ]
  },
  {
   "cell_type": "markdown",
   "metadata": {},
   "source": [
    "<b><em> We are losing 6.02 % of data and which Acceptable.</em></b>"
   ]
  },
  {
   "cell_type": "markdown",
   "metadata": {},
   "source": [
    "## 2.  Skewness of features"
   ]
  },
  {
   "cell_type": "code",
   "execution_count": 37,
   "metadata": {},
   "outputs": [
    {
     "data": {
      "image/png": "[encoded data removed]",
      "text/plain": [
       "<Figure size 1584x360 with 4 Axes>"
      ]
     },
     "metadata": {},
     "output_type": "display_data"
    }
   ],
   "source": [
    "plt.figure(figsize=(22,5),facecolor='white')\n",
    "plotnum=1\n",
    "for col in Numerical:\n",
    "    if plotnum<=4:\n",
    "        plt.subplot(1,4,plotnum)\n",
    "        sns.distplot(df[col],color='r')\n",
    "        plt.xlabel(col,fontsize=20)\n",
    "    plotnum+=1\n",
    "plt.show()"
   ]
  },
  {
   "cell_type": "code",
   "execution_count": 38,
   "metadata": {},
   "outputs": [
    {
     "data": {
      "text/plain": [
       "Gender              -1.622920\n",
       "Married             -0.630211\n",
       "Dependents           1.052106\n",
       "Education            1.306588\n",
       "Self_Employed        2.252848\n",
       "ApplicantIncome      2.148522\n",
       "CoapplicantIncome    1.350517\n",
       "LoanAmount           1.151525\n",
       "Loan_Amount_Term    -2.098806\n",
       "Credit_History      -1.976043\n",
       "Property_Area       -0.055332\n",
       "Loan_Status         -0.822635\n",
       "dtype: float64"
      ]
     },
     "execution_count": 38,
     "metadata": {},
     "output_type": "execute_result"
    }
   ],
   "source": [
    "df.skew()"
   ]
  },
  {
   "cell_type": "markdown",
   "metadata": {},
   "source": [
    "#### Observation :\n",
    "- 'ApplicantIncome', 'CoapplicantIncome', 'LoanAmount' are skewed which are numerical feature.>\n",
    "- Other features are categorical in nature so skewness can be ignored\n",
    "- We will yeo-johnson transformation method."
   ]
  },
  {
   "cell_type": "code",
   "execution_count": 39,
   "metadata": {},
   "outputs": [],
   "source": [
    "# Removing skewness with yeo-johnson  method \n",
    "skew = ['ApplicantIncome', 'CoapplicantIncome', 'LoanAmount']\n",
    "\n",
    "from sklearn.preprocessing import PowerTransformer\n",
    "scaler = PowerTransformer(method='yeo-johnson')"
   ]
  },
  {
   "cell_type": "code",
   "execution_count": 40,
   "metadata": {},
   "outputs": [
    {
     "data": {
      "text/html": [
       "<div>\n",
       "<style scoped>\n",
       "    .dataframe tbody tr th:only-of-type {\n",
       "        vertical-align: middle;\n",
       "    }\n",
       "\n",
       "    .dataframe tbody tr th {\n",
       "        vertical-align: top;\n",
       "    }\n",
       "\n",
       "    .dataframe thead th {\n",
       "        text-align: right;\n",
       "    }\n",
       "</style>\n",
       "<table border=\"1\" class=\"dataframe\">\n",
       "  <thead>\n",
       "    <tr style=\"text-align: right;\">\n",
       "      <th></th>\n",
       "      <th>ApplicantIncome</th>\n",
       "      <th>CoapplicantIncome</th>\n",
       "      <th>LoanAmount</th>\n",
       "    </tr>\n",
       "  </thead>\n",
       "  <tbody>\n",
       "    <tr>\n",
       "      <th>0</th>\n",
       "      <td>0.681780</td>\n",
       "      <td>-1.122446</td>\n",
       "      <td>0.000771</td>\n",
       "    </tr>\n",
       "    <tr>\n",
       "      <th>1</th>\n",
       "      <td>0.234783</td>\n",
       "      <td>0.744117</td>\n",
       "      <td>0.000771</td>\n",
       "    </tr>\n",
       "    <tr>\n",
       "      <th>2</th>\n",
       "      <td>-0.527201</td>\n",
       "      <td>-1.122446</td>\n",
       "      <td>-1.437336</td>\n",
       "    </tr>\n",
       "    <tr>\n",
       "      <th>3</th>\n",
       "      <td>-0.791972</td>\n",
       "      <td>0.895786</td>\n",
       "      <td>-0.153545</td>\n",
       "    </tr>\n",
       "    <tr>\n",
       "      <th>4</th>\n",
       "      <td>0.728848</td>\n",
       "      <td>-1.122446</td>\n",
       "      <td>0.238260</td>\n",
       "    </tr>\n",
       "  </tbody>\n",
       "</table>\n",
       "</div>"
      ],
      "text/plain": [
       "   ApplicantIncome  CoapplicantIncome  LoanAmount\n",
       "0         0.681780          -1.122446    0.000771\n",
       "1         0.234783           0.744117    0.000771\n",
       "2        -0.527201          -1.122446   -1.437336\n",
       "3        -0.791972           0.895786   -0.153545\n",
       "4         0.728848          -1.122446    0.238260"
      ]
     },
     "execution_count": 40,
     "metadata": {},
     "output_type": "execute_result"
    }
   ],
   "source": [
    "df[skew] = scaler.fit_transform(df[skew].values)\n",
    "df[skew].head()"
   ]
  },
  {
   "cell_type": "markdown",
   "metadata": {},
   "source": [
    "Check skewness with yeo-johnson method"
   ]
  },
  {
   "cell_type": "code",
   "execution_count": 41,
   "metadata": {},
   "outputs": [
    {
     "data": {
      "text/plain": [
       "Gender              -1.622920\n",
       "Married             -0.630211\n",
       "Dependents           1.052106\n",
       "Education            1.306588\n",
       "Self_Employed        2.252848\n",
       "ApplicantIncome      0.027981\n",
       "CoapplicantIncome   -0.191876\n",
       "LoanAmount           0.048425\n",
       "Loan_Amount_Term    -2.098806\n",
       "Credit_History      -1.976043\n",
       "Property_Area       -0.055332\n",
       "Loan_Status         -0.822635\n",
       "dtype: float64"
      ]
     },
     "execution_count": 41,
     "metadata": {},
     "output_type": "execute_result"
    }
   ],
   "source": [
    "df.skew()"
   ]
  },
  {
   "cell_type": "markdown",
   "metadata": {},
   "source": [
    "Numerical variable skewness is within permissible limit."
   ]
  },
  {
   "cell_type": "markdown",
   "metadata": {},
   "source": [
    "## Correlation "
   ]
  },
  {
   "cell_type": "code",
   "execution_count": 42,
   "metadata": {},
   "outputs": [
    {
     "data": {
      "text/html": [
       "<div>\n",
       "<style scoped>\n",
       "    .dataframe tbody tr th:only-of-type {\n",
       "        vertical-align: middle;\n",
       "    }\n",
       "\n",
       "    .dataframe tbody tr th {\n",
       "        vertical-align: top;\n",
       "    }\n",
       "\n",
       "    .dataframe thead th {\n",
       "        text-align: right;\n",
       "    }\n",
       "</style>\n",
       "<table border=\"1\" class=\"dataframe\">\n",
       "  <thead>\n",
       "    <tr style=\"text-align: right;\">\n",
       "      <th></th>\n",
       "      <th>Gender</th>\n",
       "      <th>Married</th>\n",
       "      <th>Dependents</th>\n",
       "      <th>Education</th>\n",
       "      <th>Self_Employed</th>\n",
       "      <th>ApplicantIncome</th>\n",
       "      <th>CoapplicantIncome</th>\n",
       "      <th>LoanAmount</th>\n",
       "      <th>Loan_Amount_Term</th>\n",
       "      <th>Credit_History</th>\n",
       "      <th>Property_Area</th>\n",
       "      <th>Loan_Status</th>\n",
       "    </tr>\n",
       "  </thead>\n",
       "  <tbody>\n",
       "    <tr>\n",
       "      <th>Gender</th>\n",
       "      <td>1.000000</td>\n",
       "      <td>0.378997</td>\n",
       "      <td>0.188162</td>\n",
       "      <td>0.045696</td>\n",
       "      <td>-0.006207</td>\n",
       "      <td>0.058590</td>\n",
       "      <td>0.234551</td>\n",
       "      <td>0.172146</td>\n",
       "      <td>-0.104983</td>\n",
       "      <td>0.013172</td>\n",
       "      <td>-0.026340</td>\n",
       "      <td>0.017408</td>\n",
       "    </tr>\n",
       "    <tr>\n",
       "      <th>Married</th>\n",
       "      <td>0.378997</td>\n",
       "      <td>1.000000</td>\n",
       "      <td>0.329900</td>\n",
       "      <td>0.024817</td>\n",
       "      <td>-0.015779</td>\n",
       "      <td>-0.024783</td>\n",
       "      <td>0.335820</td>\n",
       "      <td>0.181878</td>\n",
       "      <td>-0.127348</td>\n",
       "      <td>0.019308</td>\n",
       "      <td>0.010595</td>\n",
       "      <td>0.089026</td>\n",
       "    </tr>\n",
       "    <tr>\n",
       "      <th>Dependents</th>\n",
       "      <td>0.188162</td>\n",
       "      <td>0.329900</td>\n",
       "      <td>1.000000</td>\n",
       "      <td>0.069814</td>\n",
       "      <td>0.044543</td>\n",
       "      <td>0.105994</td>\n",
       "      <td>0.004109</td>\n",
       "      <td>0.131772</td>\n",
       "      <td>-0.087389</td>\n",
       "      <td>-0.020288</td>\n",
       "      <td>0.002327</td>\n",
       "      <td>0.017872</td>\n",
       "    </tr>\n",
       "    <tr>\n",
       "      <th>Education</th>\n",
       "      <td>0.045696</td>\n",
       "      <td>0.024817</td>\n",
       "      <td>0.069814</td>\n",
       "      <td>1.000000</td>\n",
       "      <td>-0.007139</td>\n",
       "      <td>-0.176074</td>\n",
       "      <td>0.049739</td>\n",
       "      <td>-0.128715</td>\n",
       "      <td>-0.090523</td>\n",
       "      <td>-0.075217</td>\n",
       "      <td>-0.068596</td>\n",
       "      <td>-0.092658</td>\n",
       "    </tr>\n",
       "    <tr>\n",
       "      <th>Self_Employed</th>\n",
       "      <td>-0.006207</td>\n",
       "      <td>-0.015779</td>\n",
       "      <td>0.044543</td>\n",
       "      <td>-0.007139</td>\n",
       "      <td>1.000000</td>\n",
       "      <td>0.212260</td>\n",
       "      <td>-0.087338</td>\n",
       "      <td>0.117218</td>\n",
       "      <td>-0.032914</td>\n",
       "      <td>-0.016390</td>\n",
       "      <td>-0.028253</td>\n",
       "      <td>-0.026525</td>\n",
       "    </tr>\n",
       "    <tr>\n",
       "      <th>ApplicantIncome</th>\n",
       "      <td>0.058590</td>\n",
       "      <td>-0.024783</td>\n",
       "      <td>0.105994</td>\n",
       "      <td>-0.176074</td>\n",
       "      <td>0.212260</td>\n",
       "      <td>1.000000</td>\n",
       "      <td>-0.360946</td>\n",
       "      <td>0.432154</td>\n",
       "      <td>-0.069429</td>\n",
       "      <td>0.028825</td>\n",
       "      <td>-0.011364</td>\n",
       "      <td>-0.002484</td>\n",
       "    </tr>\n",
       "    <tr>\n",
       "      <th>CoapplicantIncome</th>\n",
       "      <td>0.234551</td>\n",
       "      <td>0.335820</td>\n",
       "      <td>0.004109</td>\n",
       "      <td>0.049739</td>\n",
       "      <td>-0.087338</td>\n",
       "      <td>-0.360946</td>\n",
       "      <td>1.000000</td>\n",
       "      <td>0.200081</td>\n",
       "      <td>0.000951</td>\n",
       "      <td>0.006564</td>\n",
       "      <td>-0.074476</td>\n",
       "      <td>0.079344</td>\n",
       "    </tr>\n",
       "    <tr>\n",
       "      <th>LoanAmount</th>\n",
       "      <td>0.172146</td>\n",
       "      <td>0.181878</td>\n",
       "      <td>0.131772</td>\n",
       "      <td>-0.128715</td>\n",
       "      <td>0.117218</td>\n",
       "      <td>0.432154</td>\n",
       "      <td>0.200081</td>\n",
       "      <td>1.000000</td>\n",
       "      <td>0.049057</td>\n",
       "      <td>-0.003626</td>\n",
       "      <td>-0.098090</td>\n",
       "      <td>-0.023609</td>\n",
       "    </tr>\n",
       "    <tr>\n",
       "      <th>Loan_Amount_Term</th>\n",
       "      <td>-0.104983</td>\n",
       "      <td>-0.127348</td>\n",
       "      <td>-0.087389</td>\n",
       "      <td>-0.090523</td>\n",
       "      <td>-0.032914</td>\n",
       "      <td>-0.069429</td>\n",
       "      <td>0.000951</td>\n",
       "      <td>0.049057</td>\n",
       "      <td>1.000000</td>\n",
       "      <td>0.027392</td>\n",
       "      <td>-0.057004</td>\n",
       "      <td>-0.020291</td>\n",
       "    </tr>\n",
       "    <tr>\n",
       "      <th>Credit_History</th>\n",
       "      <td>0.013172</td>\n",
       "      <td>0.019308</td>\n",
       "      <td>-0.020288</td>\n",
       "      <td>-0.075217</td>\n",
       "      <td>-0.016390</td>\n",
       "      <td>0.028825</td>\n",
       "      <td>0.006564</td>\n",
       "      <td>-0.003626</td>\n",
       "      <td>0.027392</td>\n",
       "      <td>1.000000</td>\n",
       "      <td>-0.008121</td>\n",
       "      <td>0.560936</td>\n",
       "    </tr>\n",
       "    <tr>\n",
       "      <th>Property_Area</th>\n",
       "      <td>-0.026340</td>\n",
       "      <td>0.010595</td>\n",
       "      <td>0.002327</td>\n",
       "      <td>-0.068596</td>\n",
       "      <td>-0.028253</td>\n",
       "      <td>-0.011364</td>\n",
       "      <td>-0.074476</td>\n",
       "      <td>-0.098090</td>\n",
       "      <td>-0.057004</td>\n",
       "      <td>-0.008121</td>\n",
       "      <td>1.000000</td>\n",
       "      <td>0.026507</td>\n",
       "    </tr>\n",
       "    <tr>\n",
       "      <th>Loan_Status</th>\n",
       "      <td>0.017408</td>\n",
       "      <td>0.089026</td>\n",
       "      <td>0.017872</td>\n",
       "      <td>-0.092658</td>\n",
       "      <td>-0.026525</td>\n",
       "      <td>-0.002484</td>\n",
       "      <td>0.079344</td>\n",
       "      <td>-0.023609</td>\n",
       "      <td>-0.020291</td>\n",
       "      <td>0.560936</td>\n",
       "      <td>0.026507</td>\n",
       "      <td>1.000000</td>\n",
       "    </tr>\n",
       "  </tbody>\n",
       "</table>\n",
       "</div>"
      ],
      "text/plain": [
       "                     Gender   Married  Dependents  Education  Self_Employed  \\\n",
       "Gender             1.000000  0.378997    0.188162   0.045696      -0.006207   \n",
       "Married            0.378997  1.000000    0.329900   0.024817      -0.015779   \n",
       "Dependents         0.188162  0.329900    1.000000   0.069814       0.044543   \n",
       "Education          0.045696  0.024817    0.069814   1.000000      -0.007139   \n",
       "Self_Employed     -0.006207 -0.015779    0.044543  -0.007139       1.000000   \n",
       "ApplicantIncome    0.058590 -0.024783    0.105994  -0.176074       0.212260   \n",
       "CoapplicantIncome  0.234551  0.335820    0.004109   0.049739      -0.087338   \n",
       "LoanAmount         0.172146  0.181878    0.131772  -0.128715       0.117218   \n",
       "Loan_Amount_Term  -0.104983 -0.127348   -0.087389  -0.090523      -0.032914   \n",
       "Credit_History     0.013172  0.019308   -0.020288  -0.075217      -0.016390   \n",
       "Property_Area     -0.026340  0.010595    0.002327  -0.068596      -0.028253   \n",
       "Loan_Status        0.017408  0.089026    0.017872  -0.092658      -0.026525   \n",
       "\n",
       "                   ApplicantIncome  CoapplicantIncome  LoanAmount  \\\n",
       "Gender                    0.058590           0.234551    0.172146   \n",
       "Married                  -0.024783           0.335820    0.181878   \n",
       "Dependents                0.105994           0.004109    0.131772   \n",
       "Education                -0.176074           0.049739   -0.128715   \n",
       "Self_Employed             0.212260          -0.087338    0.117218   \n",
       "ApplicantIncome           1.000000          -0.360946    0.432154   \n",
       "CoapplicantIncome        -0.360946           1.000000    0.200081   \n",
       "LoanAmount                0.432154           0.200081    1.000000   \n",
       "Loan_Amount_Term         -0.069429           0.000951    0.049057   \n",
       "Credit_History            0.028825           0.006564   -0.003626   \n",
       "Property_Area            -0.011364          -0.074476   -0.098090   \n",
       "Loan_Status              -0.002484           0.079344   -0.023609   \n",
       "\n",
       "                   Loan_Amount_Term  Credit_History  Property_Area  \\\n",
       "Gender                    -0.104983        0.013172      -0.026340   \n",
       "Married                   -0.127348        0.019308       0.010595   \n",
       "Dependents                -0.087389       -0.020288       0.002327   \n",
       "Education                 -0.090523       -0.075217      -0.068596   \n",
       "Self_Employed             -0.032914       -0.016390      -0.028253   \n",
       "ApplicantIncome           -0.069429        0.028825      -0.011364   \n",
       "CoapplicantIncome          0.000951        0.006564      -0.074476   \n",
       "LoanAmount                 0.049057       -0.003626      -0.098090   \n",
       "Loan_Amount_Term           1.000000        0.027392      -0.057004   \n",
       "Credit_History             0.027392        1.000000      -0.008121   \n",
       "Property_Area             -0.057004       -0.008121       1.000000   \n",
       "Loan_Status               -0.020291        0.560936       0.026507   \n",
       "\n",
       "                   Loan_Status  \n",
       "Gender                0.017408  \n",
       "Married               0.089026  \n",
       "Dependents            0.017872  \n",
       "Education            -0.092658  \n",
       "Self_Employed        -0.026525  \n",
       "ApplicantIncome      -0.002484  \n",
       "CoapplicantIncome     0.079344  \n",
       "LoanAmount           -0.023609  \n",
       "Loan_Amount_Term     -0.020291  \n",
       "Credit_History        0.560936  \n",
       "Property_Area         0.026507  \n",
       "Loan_Status           1.000000  "
      ]
     },
     "execution_count": 42,
     "metadata": {},
     "output_type": "execute_result"
    }
   ],
   "source": [
    "df.corr()"
   ]
  },
  {
   "cell_type": "code",
   "execution_count": 43,
   "metadata": {},
   "outputs": [
    {
     "data": {
      "image/png": "[encoded data removed]",
      "text/plain": [
       "<Figure size 1512x936 with 2 Axes>"
      ]
     },
     "metadata": {
      "needs_background": "light"
     },
     "output_type": "display_data"
    }
   ],
   "source": [
    "plt.figure(figsize=(21,13))\n",
    "sns.heatmap(df.corr(), vmin=-1, vmax=1, annot=True, square=True, fmt='0.3f', \n",
    "            annot_kws={'size':10}, cmap=\"gist_stern\")\n",
    "plt.xticks(fontsize=12)\n",
    "plt.yticks(fontsize=12)\n",
    "plt.show()"
   ]
  },
  {
   "cell_type": "code",
   "execution_count": 44,
   "metadata": {},
   "outputs": [
    {
     "data": {
      "image/png": "[encoded data removed]",
      "text/plain": [
       "<Figure size 1296x432 with 1 Axes>"
      ]
     },
     "metadata": {
      "needs_background": "light"
     },
     "output_type": "display_data"
    }
   ],
   "source": [
    "plt.figure(figsize = (18,6))\n",
    "df.corr()['Loan_Status'].drop(['Loan_Status']).sort_values(ascending=False).plot(kind='bar',color = 'purple')\n",
    "plt.xlabel('Features',fontsize=15)\n",
    "plt.ylabel('Income',fontsize=15)\n",
    "plt.title('Correlation of features with Target Variable Loan_Status',fontsize = 18)\n",
    "plt.show()"
   ]
  },
  {
   "cell_type": "markdown",
   "metadata": {},
   "source": [
    "#### Observation:\n",
    "- Most of feature are poorly or moderately correlated with target variable expect Credit History.\n",
    "-  Maximum correlation of 0.561 exist between Credit History and Loan status."
   ]
  },
  {
   "cell_type": "markdown",
   "metadata": {},
   "source": [
    " ## Check for Multicollinearity between features using variance_inflation_factor"
   ]
  },
  {
   "cell_type": "code",
   "execution_count": 45,
   "metadata": {},
   "outputs": [
    {
     "data": {
      "text/html": [
       "<div>\n",
       "<style scoped>\n",
       "    .dataframe tbody tr th:only-of-type {\n",
       "        vertical-align: middle;\n",
       "    }\n",
       "\n",
       "    .dataframe tbody tr th {\n",
       "        vertical-align: top;\n",
       "    }\n",
       "\n",
       "    .dataframe thead th {\n",
       "        text-align: right;\n",
       "    }\n",
       "</style>\n",
       "<table border=\"1\" class=\"dataframe\">\n",
       "  <thead>\n",
       "    <tr style=\"text-align: right;\">\n",
       "      <th></th>\n",
       "      <th>VIF</th>\n",
       "      <th>Features</th>\n",
       "    </tr>\n",
       "  </thead>\n",
       "  <tbody>\n",
       "    <tr>\n",
       "      <th>0</th>\n",
       "      <td>6.119789</td>\n",
       "      <td>Gender</td>\n",
       "    </tr>\n",
       "    <tr>\n",
       "      <th>1</th>\n",
       "      <td>3.963538</td>\n",
       "      <td>Married</td>\n",
       "    </tr>\n",
       "    <tr>\n",
       "      <th>2</th>\n",
       "      <td>1.778377</td>\n",
       "      <td>Dependents</td>\n",
       "    </tr>\n",
       "    <tr>\n",
       "      <th>3</th>\n",
       "      <td>1.355469</td>\n",
       "      <td>Education</td>\n",
       "    </tr>\n",
       "    <tr>\n",
       "      <th>4</th>\n",
       "      <td>1.197219</td>\n",
       "      <td>Self_Employed</td>\n",
       "    </tr>\n",
       "    <tr>\n",
       "      <th>5</th>\n",
       "      <td>1.756726</td>\n",
       "      <td>ApplicantIncome</td>\n",
       "    </tr>\n",
       "    <tr>\n",
       "      <th>6</th>\n",
       "      <td>1.596438</td>\n",
       "      <td>CoapplicantIncome</td>\n",
       "    </tr>\n",
       "    <tr>\n",
       "      <th>7</th>\n",
       "      <td>1.548450</td>\n",
       "      <td>LoanAmount</td>\n",
       "    </tr>\n",
       "    <tr>\n",
       "      <th>8</th>\n",
       "      <td>10.415255</td>\n",
       "      <td>Loan_Amount_Term</td>\n",
       "    </tr>\n",
       "    <tr>\n",
       "      <th>9</th>\n",
       "      <td>9.483180</td>\n",
       "      <td>Credit_History</td>\n",
       "    </tr>\n",
       "    <tr>\n",
       "      <th>10</th>\n",
       "      <td>2.654799</td>\n",
       "      <td>Property_Area</td>\n",
       "    </tr>\n",
       "    <tr>\n",
       "      <th>11</th>\n",
       "      <td>4.818436</td>\n",
       "      <td>Loan_Status</td>\n",
       "    </tr>\n",
       "  </tbody>\n",
       "</table>\n",
       "</div>"
      ],
      "text/plain": [
       "          VIF           Features\n",
       "0    6.119789             Gender\n",
       "1    3.963538            Married\n",
       "2    1.778377         Dependents\n",
       "3    1.355469          Education\n",
       "4    1.197219      Self_Employed\n",
       "5    1.756726    ApplicantIncome\n",
       "6    1.596438  CoapplicantIncome\n",
       "7    1.548450         LoanAmount\n",
       "8   10.415255   Loan_Amount_Term\n",
       "9    9.483180     Credit_History\n",
       "10   2.654799      Property_Area\n",
       "11   4.818436        Loan_Status"
      ]
     },
     "execution_count": 45,
     "metadata": {},
     "output_type": "execute_result"
    }
   ],
   "source": [
    "from statsmodels.stats.outliers_influence import variance_inflation_factor\n",
    "vif= pd.DataFrame()\n",
    "vif['VIF']= [variance_inflation_factor(df.values,i) for i in range(df.shape[1])]\n",
    "vif['Features']= df.columns\n",
    "vif"
   ]
  },
  {
   "cell_type": "markdown",
   "metadata": {},
   "source": [
    "All features VIF is < 10. \n",
    "\n"
   ]
  },
  {
   "cell_type": "markdown",
   "metadata": {},
   "source": [
    "## Balancing target feature"
   ]
  },
  {
   "cell_type": "code",
   "execution_count": 46,
   "metadata": {},
   "outputs": [
    {
     "data": {
      "text/plain": [
       "1    398\n",
       "0    179\n",
       "Name: Loan_Status, dtype: int64"
      ]
     },
     "execution_count": 46,
     "metadata": {},
     "output_type": "execute_result"
    }
   ],
   "source": [
    "df.Loan_Status.value_counts()"
   ]
  },
  {
   "cell_type": "markdown",
   "metadata": {},
   "source": [
    "Target variable data is Imbalanced in nature we will need to balance target variable."
   ]
  },
  {
   "cell_type": "markdown",
   "metadata": {},
   "source": [
    "### Balancing using SMOTE"
   ]
  },
  {
   "cell_type": "code",
   "execution_count": 47,
   "metadata": {},
   "outputs": [],
   "source": [
    "from imblearn.over_sampling import SMOTE"
   ]
  },
  {
   "cell_type": "code",
   "execution_count": 48,
   "metadata": {},
   "outputs": [],
   "source": [
    "# Split data in target and dependent feature\n",
    "X = df.drop(['Loan_Status'], axis =1)\n",
    "Y = df['Loan_Status']"
   ]
  },
  {
   "cell_type": "code",
   "execution_count": 49,
   "metadata": {},
   "outputs": [],
   "source": [
    "# using SMOTE Techniques\n",
    "oversample = SMOTE()\n",
    "X, Y = oversample.fit_resample(X, Y)"
   ]
  },
  {
   "cell_type": "code",
   "execution_count": 50,
   "metadata": {},
   "outputs": [
    {
     "data": {
      "text/plain": [
       "1    398\n",
       "0    398\n",
       "Name: Loan_Status, dtype: int64"
      ]
     },
     "execution_count": 50,
     "metadata": {},
     "output_type": "execute_result"
    }
   ],
   "source": [
    "Y.value_counts()"
   ]
  },
  {
   "cell_type": "markdown",
   "metadata": {},
   "source": [
    "Class imbalanced problem is resolved and now all the categories have same data ensuring that the ML model does not get biased towards one category."
   ]
  },
  {
   "cell_type": "markdown",
   "metadata": {},
   "source": [
    "## Standard Scaling"
   ]
  },
  {
   "cell_type": "code",
   "execution_count": 51,
   "metadata": {},
   "outputs": [],
   "source": [
    "from sklearn.preprocessing import StandardScaler\n",
    "scaler= StandardScaler()\n",
    "X_scale = scaler.fit_transform(X)"
   ]
  },
  {
   "cell_type": "markdown",
   "metadata": {},
   "source": [
    "# Machine Learning Model Building"
   ]
  },
  {
   "cell_type": "code",
   "execution_count": 52,
   "metadata": {},
   "outputs": [],
   "source": [
    "from sklearn.model_selection import train_test_split\n",
    "from sklearn.linear_model import LogisticRegression\n",
    "from sklearn.naive_bayes import GaussianNB\n",
    "from sklearn.svm import SVC\n",
    "from sklearn.tree import DecisionTreeClassifier\n",
    "from sklearn.neighbors import KNeighborsClassifier\n",
    "from sklearn.ensemble import RandomForestClassifier\n",
    "from sklearn.ensemble import ExtraTreesClassifier\n",
    "from sklearn.neighbors import KNeighborsClassifier\n",
    "from sklearn.metrics import accuracy_score, confusion_matrix,classification_report,f1_score"
   ]
  },
  {
   "cell_type": "code",
   "execution_count": 53,
   "metadata": {},
   "outputs": [
    {
     "name": "stdout",
     "output_type": "stream",
     "text": [
      "Training feature matrix size: (636, 11)\n",
      "Training target vector size: (636,)\n",
      "Test feature matrix size: (160, 11)\n",
      "Test target vector size: (160,)\n"
     ]
    }
   ],
   "source": [
    "X_train, X_test, Y_train, Y_test = train_test_split(X_scale, Y, random_state=99, test_size=.2)\n",
    "print('Training feature matrix size:',X_train.shape)\n",
    "print('Training target vector size:',Y_train.shape)\n",
    "print('Test feature matrix size:',X_test.shape)\n",
    "print('Test target vector size:',Y_test.shape)"
   ]
  },
  {
   "cell_type": "code",
   "execution_count": 54,
   "metadata": {},
   "outputs": [
    {
     "name": "stdout",
     "output_type": "stream",
     "text": [
      "Table of random state values with training accuracy = testing accuracy\n"
     ]
    },
    {
     "data": {
      "text/html": [
       "<div>\n",
       "<style scoped>\n",
       "    .dataframe tbody tr th:only-of-type {\n",
       "        vertical-align: middle;\n",
       "    }\n",
       "\n",
       "    .dataframe tbody tr th {\n",
       "        vertical-align: top;\n",
       "    }\n",
       "\n",
       "    .dataframe thead th {\n",
       "        text-align: right;\n",
       "    }\n",
       "</style>\n",
       "<table border=\"1\" class=\"dataframe\">\n",
       "  <thead>\n",
       "    <tr style=\"text-align: right;\">\n",
       "      <th></th>\n",
       "      <th>Random State</th>\n",
       "      <th>Training Accuracy</th>\n",
       "      <th>Testing Accuracy</th>\n",
       "      <th>Difference</th>\n",
       "    </tr>\n",
       "  </thead>\n",
       "  <tbody>\n",
       "    <tr>\n",
       "      <th>3</th>\n",
       "      <td>720</td>\n",
       "      <td>75.000000</td>\n",
       "      <td>75.000</td>\n",
       "      <td>0.000000</td>\n",
       "    </tr>\n",
       "    <tr>\n",
       "      <th>0</th>\n",
       "      <td>98</td>\n",
       "      <td>75.628931</td>\n",
       "      <td>75.625</td>\n",
       "      <td>0.003931</td>\n",
       "    </tr>\n",
       "    <tr>\n",
       "      <th>1</th>\n",
       "      <td>378</td>\n",
       "      <td>75.628931</td>\n",
       "      <td>75.625</td>\n",
       "      <td>0.003931</td>\n",
       "    </tr>\n",
       "    <tr>\n",
       "      <th>2</th>\n",
       "      <td>708</td>\n",
       "      <td>75.628931</td>\n",
       "      <td>75.625</td>\n",
       "      <td>0.003931</td>\n",
       "    </tr>\n",
       "    <tr>\n",
       "      <th>4</th>\n",
       "      <td>764</td>\n",
       "      <td>75.628931</td>\n",
       "      <td>75.625</td>\n",
       "      <td>0.003931</td>\n",
       "    </tr>\n",
       "  </tbody>\n",
       "</table>\n",
       "</div>"
      ],
      "text/plain": [
       "   Random State  Training Accuracy  Testing Accuracy  Difference\n",
       "3           720          75.000000            75.000    0.000000\n",
       "0            98          75.628931            75.625    0.003931\n",
       "1           378          75.628931            75.625    0.003931\n",
       "2           708          75.628931            75.625    0.003931\n",
       "4           764          75.628931            75.625    0.003931"
      ]
     },
     "execution_count": 54,
     "metadata": {},
     "output_type": "execute_result"
    }
   ],
   "source": [
    "# required libraries\n",
    "from sklearn.linear_model import LogisticRegression\n",
    "from sklearn.model_selection import train_test_split\n",
    "from sklearn.metrics import accuracy_score, confusion_matrix, classification_report, roc_curve,f1_score\n",
    "\n",
    "lr=LogisticRegression()  # Define instance for logisticregression\n",
    "\n",
    "# Find the best random state value where training accuracy = testing accuracy\n",
    "\n",
    "Random_State=[]\n",
    "Training_Accuracy=[]\n",
    "Testing_Accuracy=[]\n",
    "Difference=[]\n",
    "\n",
    "for i in range(0,1000):\n",
    "    x_train,x_test,y_train,y_test=train_test_split(X_scale, Y, random_state=i, test_size=.2)    \n",
    "    lr.fit(x_train,y_train)\n",
    "    pred_test=lr.predict(x_test)\n",
    "    pred_train=lr.predict(x_train)\n",
    "\n",
    "    if round(accuracy_score(y_train,pred_train)*100,1)==round(accuracy_score(y_test,pred_test)*100,1):\n",
    "        Random_State.append(i)\n",
    "        Training_Accuracy.append(accuracy_score(y_train,pred_train)*100)\n",
    "        Testing_Accuracy.append(accuracy_score(y_test,pred_test)*100)\n",
    "        Difference.append(abs((accuracy_score(y_test,pred_test)*100)-(accuracy_score(y_train,pred_train)*100)))\n",
    "\n",
    "RS_table=pd.DataFrame({\"Random State\":Random_State,\"Training Accuracy\":Training_Accuracy,\"Testing Accuracy\":Testing_Accuracy,\"Difference\":Difference})\n",
    "print(\"Table of random state values with training accuracy = testing accuracy\")\n",
    "RS_table.sort_values(by=[\"Difference\"],ascending=True)"
   ]
  },
  {
   "cell_type": "markdown",
   "metadata": {},
   "source": [
    "Observations:\n",
    "\n",
    "From the above table, as multple random states give same training and testing accuarcy scores, taking one of this from the below code"
   ]
  },
  {
   "cell_type": "code",
   "execution_count": 55,
   "metadata": {},
   "outputs": [
    {
     "data": {
      "text/plain": [
       "720"
      ]
     },
     "execution_count": 55,
     "metadata": {},
     "output_type": "execute_result"
    }
   ],
   "source": [
    "# Getting the best random state where training accuracy equal to testing accuracy\n",
    "RSN=RS_table[\"Random State\"][RS_table[\"Difference\"]==RS_table[\"Difference\"].min()]\n",
    "BRS=np.array(RSN)[0]\n",
    "BRS"
   ]
  },
  {
   "cell_type": "code",
   "execution_count": 56,
   "metadata": {},
   "outputs": [],
   "source": [
    "# Using the best random state and splitting the data\n",
    "x_train,x_test,y_train,y_test=train_test_split(X_scale, Y,test_size=0.2,random_state=BRS)"
   ]
  },
  {
   "cell_type": "code",
   "execution_count": 57,
   "metadata": {},
   "outputs": [
    {
     "name": "stdout",
     "output_type": "stream",
     "text": [
      "0.75\n"
     ]
    }
   ],
   "source": [
    "# Training the model and checking  accuracy score with the fixed random state\n",
    "lr.fit(x_train,y_train)\n",
    "pred_test=lr.predict(x_test)\n",
    "print(accuracy_score(y_test,pred_test))"
   ]
  },
  {
   "cell_type": "code",
   "execution_count": 58,
   "metadata": {},
   "outputs": [
    {
     "name": "stdout",
     "output_type": "stream",
     "text": [
      "              precision    recall  f1-score   support\n",
      "\n",
      "           0       0.73      0.65      0.69        68\n",
      "           1       0.76      0.83      0.79        92\n",
      "\n",
      "    accuracy                           0.75       160\n",
      "   macro avg       0.75      0.74      0.74       160\n",
      "weighted avg       0.75      0.75      0.75       160\n",
      "\n"
     ]
    }
   ],
   "source": [
    "print(classification_report(y_test,pred_test))  # Printing classificatin report"
   ]
  },
  {
   "cell_type": "code",
   "execution_count": 59,
   "metadata": {},
   "outputs": [
    {
     "name": "stdout",
     "output_type": "stream",
     "text": [
      "[[44 24]\n",
      " [16 76]]\n"
     ]
    }
   ],
   "source": [
    "print(confusion_matrix(y_test,pred_test))  # printing confusion matrix"
   ]
  },
  {
   "cell_type": "markdown",
   "metadata": {},
   "source": [
    "# Cross Validation for Logistic Regression"
   ]
  },
  {
   "cell_type": "code",
   "execution_count": 60,
   "metadata": {},
   "outputs": [
    {
     "name": "stdout",
     "output_type": "stream",
     "text": [
      "Cross Validation table\n"
     ]
    },
    {
     "data": {
      "text/html": [
       "<div>\n",
       "<style scoped>\n",
       "    .dataframe tbody tr th:only-of-type {\n",
       "        vertical-align: middle;\n",
       "    }\n",
       "\n",
       "    .dataframe tbody tr th {\n",
       "        vertical-align: top;\n",
       "    }\n",
       "\n",
       "    .dataframe thead th {\n",
       "        text-align: right;\n",
       "    }\n",
       "</style>\n",
       "<table border=\"1\" class=\"dataframe\">\n",
       "  <thead>\n",
       "    <tr style=\"text-align: right;\">\n",
       "      <th></th>\n",
       "      <th>No of Folds</th>\n",
       "      <th>Cross Validation Score</th>\n",
       "      <th>Model Score</th>\n",
       "      <th>Difference</th>\n",
       "    </tr>\n",
       "  </thead>\n",
       "  <tbody>\n",
       "    <tr>\n",
       "      <th>7</th>\n",
       "      <td>9</td>\n",
       "      <td>74.896436</td>\n",
       "      <td>75.0</td>\n",
       "      <td>0.001036</td>\n",
       "    </tr>\n",
       "    <tr>\n",
       "      <th>8</th>\n",
       "      <td>10</td>\n",
       "      <td>75.261076</td>\n",
       "      <td>75.0</td>\n",
       "      <td>0.002611</td>\n",
       "    </tr>\n",
       "    <tr>\n",
       "      <th>6</th>\n",
       "      <td>8</td>\n",
       "      <td>74.646465</td>\n",
       "      <td>75.0</td>\n",
       "      <td>0.003535</td>\n",
       "    </tr>\n",
       "    <tr>\n",
       "      <th>5</th>\n",
       "      <td>7</td>\n",
       "      <td>74.499301</td>\n",
       "      <td>75.0</td>\n",
       "      <td>0.005007</td>\n",
       "    </tr>\n",
       "    <tr>\n",
       "      <th>3</th>\n",
       "      <td>5</td>\n",
       "      <td>73.876572</td>\n",
       "      <td>75.0</td>\n",
       "      <td>0.011234</td>\n",
       "    </tr>\n",
       "    <tr>\n",
       "      <th>4</th>\n",
       "      <td>6</td>\n",
       "      <td>73.745918</td>\n",
       "      <td>75.0</td>\n",
       "      <td>0.012541</td>\n",
       "    </tr>\n",
       "    <tr>\n",
       "      <th>2</th>\n",
       "      <td>4</td>\n",
       "      <td>73.618090</td>\n",
       "      <td>75.0</td>\n",
       "      <td>0.013819</td>\n",
       "    </tr>\n",
       "    <tr>\n",
       "      <th>1</th>\n",
       "      <td>3</td>\n",
       "      <td>72.619757</td>\n",
       "      <td>75.0</td>\n",
       "      <td>0.023802</td>\n",
       "    </tr>\n",
       "    <tr>\n",
       "      <th>0</th>\n",
       "      <td>2</td>\n",
       "      <td>70.979899</td>\n",
       "      <td>75.0</td>\n",
       "      <td>0.040201</td>\n",
       "    </tr>\n",
       "  </tbody>\n",
       "</table>\n",
       "</div>"
      ],
      "text/plain": [
       "   No of Folds  Cross Validation Score  Model Score  Difference\n",
       "7            9               74.896436         75.0    0.001036\n",
       "8           10               75.261076         75.0    0.002611\n",
       "6            8               74.646465         75.0    0.003535\n",
       "5            7               74.499301         75.0    0.005007\n",
       "3            5               73.876572         75.0    0.011234\n",
       "4            6               73.745918         75.0    0.012541\n",
       "2            4               73.618090         75.0    0.013819\n",
       "1            3               72.619757         75.0    0.023802\n",
       "0            2               70.979899         75.0    0.040201"
      ]
     },
     "execution_count": 60,
     "metadata": {},
     "output_type": "execute_result"
    }
   ],
   "source": [
    "pred_lr=lr.predict(x_test)\n",
    "from sklearn.model_selection  import cross_val_score\n",
    "lss=accuracy_score(y_test,pred_lr)\n",
    "\n",
    "# Finding the optimized folds from Logistic Regression where the cross validation score is same as model score\n",
    "\n",
    "No_of_Folds=[]\n",
    "CV_Score=[]\n",
    "Model_Score=[]\n",
    "Difference=[]\n",
    "\n",
    "for j in range(2,11):\n",
    "    lsscore=cross_val_score(lr,X_scale, Y,cv=j)\n",
    "    lsc=lsscore.mean()\n",
    "    No_of_Folds.append(j)\n",
    "    CV_Score.append(lsc*100)\n",
    "    Model_Score.append(lss*100)\n",
    "    Difference.append(abs(lsc-lss))\n",
    "CV_table=pd.DataFrame({\"No of Folds\":No_of_Folds,\"Cross Validation Score\":CV_Score,\"Model Score\":Model_Score,\"Difference\":Difference})  \n",
    "print(\"Cross Validation table\")\n",
    "CV_table.sort_values(by=[\"Difference\"],ascending=True)"
   ]
  },
  {
   "cell_type": "markdown",
   "metadata": {},
   "source": [
    "Observations:\n",
    "\n",
    "Getting the no. folds where the delta is least between cross validation and model scores from the below code. In this case, selected CV=8 from the above table"
   ]
  },
  {
   "cell_type": "code",
   "execution_count": 61,
   "metadata": {},
   "outputs": [
    {
     "data": {
      "text/plain": [
       "9"
      ]
     },
     "execution_count": 61,
     "metadata": {},
     "output_type": "execute_result"
    }
   ],
   "source": [
    "# Getting the best no. of folds where the least difference between cross validation score and model score\n",
    "CVF=CV_table[\"No of Folds\"][CV_table[\"Difference\"]==CV_table[\"Difference\"].min()]\n",
    "BCV=np.array(CVF)[0]\n",
    "BCV"
   ]
  },
  {
   "cell_type": "code",
   "execution_count": 62,
   "metadata": {},
   "outputs": [
    {
     "name": "stdout",
     "output_type": "stream",
     "text": [
      "The CV score is: 74.89643627284076 \n",
      "The accuracy score is: 75.0\n",
      "Difference is: 0.0010356372715923934\n"
     ]
    }
   ],
   "source": [
    "# Using best CV value and checking the cross validation score again to compare with model score\n",
    "lsscore_selected=cross_val_score(lr,X_scale, Y,cv=BCV).mean()\n",
    "print(\"The CV score is:\",lsscore_selected*100,\"\\nThe accuracy score is:\",lss*100)\n",
    "print(\"Difference is:\",lss-lsscore_selected)"
   ]
  },
  {
   "cell_type": "markdown",
   "metadata": {},
   "source": [
    "# Other Classification Algorithms"
   ]
  },
  {
   "cell_type": "code",
   "execution_count": 63,
   "metadata": {},
   "outputs": [
    {
     "name": "stdout",
     "output_type": "stream",
     "text": [
      "Model: GaussianNB()\n",
      "Accuracy Score:\n",
      "76.875\n",
      "Confusion Matrix:\n",
      "[[37 31]\n",
      " [ 6 86]]\n",
      "Classification Report:\n",
      "              precision    recall  f1-score   support\n",
      "\n",
      "           0       0.86      0.54      0.67        68\n",
      "           1       0.74      0.93      0.82        92\n",
      "\n",
      "    accuracy                           0.77       160\n",
      "   macro avg       0.80      0.74      0.74       160\n",
      "weighted avg       0.79      0.77      0.76       160\n",
      "\n",
      "------------------------------------------------------------\n",
      "Model: Decision Tree Classifier()\n",
      "Accuracy Score:\n",
      "68.75\n",
      "Confusion Matrix:\n",
      "[[52 16]\n",
      " [34 58]]\n",
      "Classification Report:\n",
      "              precision    recall  f1-score   support\n",
      "\n",
      "           0       0.60      0.76      0.68        68\n",
      "           1       0.78      0.63      0.70        92\n",
      "\n",
      "    accuracy                           0.69       160\n",
      "   macro avg       0.69      0.70      0.69       160\n",
      "weighted avg       0.71      0.69      0.69       160\n",
      "\n",
      "------------------------------------------------------------\n",
      "Model: KNeighborsClassifier()\n",
      "Accuracy Score:\n",
      "70.625\n",
      "Confusion Matrix:\n",
      "[[50 18]\n",
      " [29 63]]\n",
      "Classification Report:\n",
      "              precision    recall  f1-score   support\n",
      "\n",
      "           0       0.63      0.74      0.68        68\n",
      "           1       0.78      0.68      0.73        92\n",
      "\n",
      "    accuracy                           0.71       160\n",
      "   macro avg       0.71      0.71      0.70       160\n",
      "weighted avg       0.72      0.71      0.71       160\n",
      "\n",
      "------------------------------------------------------------\n",
      "Model: SGDClassifier()\n",
      "Accuracy Score:\n",
      "71.875\n",
      "Confusion Matrix:\n",
      "[[45 23]\n",
      " [22 70]]\n",
      "Classification Report:\n",
      "              precision    recall  f1-score   support\n",
      "\n",
      "           0       0.67      0.66      0.67        68\n",
      "           1       0.75      0.76      0.76        92\n",
      "\n",
      "    accuracy                           0.72       160\n",
      "   macro avg       0.71      0.71      0.71       160\n",
      "weighted avg       0.72      0.72      0.72       160\n",
      "\n",
      "------------------------------------------------------------\n",
      "Model: SVC()\n",
      "Accuracy Score:\n",
      "78.125\n",
      "Confusion Matrix:\n",
      "[[46 22]\n",
      " [13 79]]\n",
      "Classification Report:\n",
      "              precision    recall  f1-score   support\n",
      "\n",
      "           0       0.78      0.68      0.72        68\n",
      "           1       0.78      0.86      0.82        92\n",
      "\n",
      "    accuracy                           0.78       160\n",
      "   macro avg       0.78      0.77      0.77       160\n",
      "weighted avg       0.78      0.78      0.78       160\n",
      "\n",
      "------------------------------------------------------------\n",
      "Model: RandomForestClassifier()\n",
      "Accuracy Score:\n",
      "81.875\n",
      "Confusion Matrix:\n",
      "[[58 10]\n",
      " [19 73]]\n",
      "Classification Report:\n",
      "              precision    recall  f1-score   support\n",
      "\n",
      "           0       0.75      0.85      0.80        68\n",
      "           1       0.88      0.79      0.83        92\n",
      "\n",
      "    accuracy                           0.82       160\n",
      "   macro avg       0.82      0.82      0.82       160\n",
      "weighted avg       0.83      0.82      0.82       160\n",
      "\n",
      "------------------------------------------------------------\n",
      "Model: ExtraTreesClassifier()\n",
      "Accuracy Score:\n",
      "76.875\n",
      "Confusion Matrix:\n",
      "[[59  9]\n",
      " [28 64]]\n",
      "Classification Report:\n",
      "              precision    recall  f1-score   support\n",
      "\n",
      "           0       0.68      0.87      0.76        68\n",
      "           1       0.88      0.70      0.78        92\n",
      "\n",
      "    accuracy                           0.77       160\n",
      "   macro avg       0.78      0.78      0.77       160\n",
      "weighted avg       0.79      0.77      0.77       160\n",
      "\n",
      "------------------------------------------------------------\n",
      "Model: GradientBoostingClassifier()\n",
      "Accuracy Score:\n",
      "81.875\n",
      "Confusion Matrix:\n",
      "[[51 17]\n",
      " [12 80]]\n",
      "Classification Report:\n",
      "              precision    recall  f1-score   support\n",
      "\n",
      "           0       0.81      0.75      0.78        68\n",
      "           1       0.82      0.87      0.85        92\n",
      "\n",
      "    accuracy                           0.82       160\n",
      "   macro avg       0.82      0.81      0.81       160\n",
      "weighted avg       0.82      0.82      0.82       160\n",
      "\n",
      "------------------------------------------------------------\n",
      "Model: AdaBoostClassifier()\n",
      "Accuracy Score:\n",
      "79.375\n",
      "Confusion Matrix:\n",
      "[[50 18]\n",
      " [15 77]]\n",
      "Classification Report:\n",
      "              precision    recall  f1-score   support\n",
      "\n",
      "           0       0.77      0.74      0.75        68\n",
      "           1       0.81      0.84      0.82        92\n",
      "\n",
      "    accuracy                           0.79       160\n",
      "   macro avg       0.79      0.79      0.79       160\n",
      "weighted avg       0.79      0.79      0.79       160\n",
      "\n",
      "------------------------------------------------------------\n",
      "Model: XGBClassifier()\n",
      "Accuracy Score:\n",
      "76.875\n",
      "Confusion Matrix:\n",
      "[[56 12]\n",
      " [25 67]]\n",
      "Classification Report:\n",
      "              precision    recall  f1-score   support\n",
      "\n",
      "           0       0.69      0.82      0.75        68\n",
      "           1       0.85      0.73      0.78        92\n",
      "\n",
      "    accuracy                           0.77       160\n",
      "   macro avg       0.77      0.78      0.77       160\n",
      "weighted avg       0.78      0.77      0.77       160\n",
      "\n",
      "------------------------------------------------------------\n",
      "Model: VotingClassifier()\n",
      "Accuracy Score:\n",
      "68.125\n",
      "Confusion Matrix:\n",
      "[[49 19]\n",
      " [32 60]]\n",
      "Classification Report:\n",
      "              precision    recall  f1-score   support\n",
      "\n",
      "           0       0.60      0.72      0.66        68\n",
      "           1       0.76      0.65      0.70        92\n",
      "\n",
      "    accuracy                           0.68       160\n",
      "   macro avg       0.68      0.69      0.68       160\n",
      "weighted avg       0.69      0.68      0.68       160\n",
      "\n",
      "------------------------------------------------------------\n",
      "Table with performance of the models\n"
     ]
    },
    {
     "data": {
      "text/html": [
       "<div>\n",
       "<style scoped>\n",
       "    .dataframe tbody tr th:only-of-type {\n",
       "        vertical-align: middle;\n",
       "    }\n",
       "\n",
       "    .dataframe tbody tr th {\n",
       "        vertical-align: top;\n",
       "    }\n",
       "\n",
       "    .dataframe thead th {\n",
       "        text-align: right;\n",
       "    }\n",
       "</style>\n",
       "<table border=\"1\" class=\"dataframe\">\n",
       "  <thead>\n",
       "    <tr style=\"text-align: right;\">\n",
       "      <th></th>\n",
       "      <th>Model</th>\n",
       "      <th>Model Score</th>\n",
       "      <th>Cross Validation Score</th>\n",
       "      <th>Difference</th>\n",
       "    </tr>\n",
       "  </thead>\n",
       "  <tbody>\n",
       "    <tr>\n",
       "      <th>0</th>\n",
       "      <td>LogisticRegression()</td>\n",
       "      <td>75.000</td>\n",
       "      <td>74.896436</td>\n",
       "      <td>0.001036</td>\n",
       "    </tr>\n",
       "    <tr>\n",
       "      <th>4</th>\n",
       "      <td>SGDClassifier()</td>\n",
       "      <td>71.875</td>\n",
       "      <td>71.246170</td>\n",
       "      <td>0.006288</td>\n",
       "    </tr>\n",
       "    <tr>\n",
       "      <th>6</th>\n",
       "      <td>RandomForestClassifier()</td>\n",
       "      <td>81.875</td>\n",
       "      <td>83.949041</td>\n",
       "      <td>0.020740</td>\n",
       "    </tr>\n",
       "    <tr>\n",
       "      <th>5</th>\n",
       "      <td>SVC()</td>\n",
       "      <td>78.125</td>\n",
       "      <td>75.645500</td>\n",
       "      <td>0.024795</td>\n",
       "    </tr>\n",
       "    <tr>\n",
       "      <th>1</th>\n",
       "      <td>GaussianNB()</td>\n",
       "      <td>76.875</td>\n",
       "      <td>74.263704</td>\n",
       "      <td>0.026113</td>\n",
       "    </tr>\n",
       "    <tr>\n",
       "      <th>9</th>\n",
       "      <td>AdaBoostClassifier()</td>\n",
       "      <td>79.375</td>\n",
       "      <td>75.276643</td>\n",
       "      <td>0.040984</td>\n",
       "    </tr>\n",
       "    <tr>\n",
       "      <th>3</th>\n",
       "      <td>KNeighborsClassifier()</td>\n",
       "      <td>70.625</td>\n",
       "      <td>75.008512</td>\n",
       "      <td>0.043835</td>\n",
       "    </tr>\n",
       "    <tr>\n",
       "      <th>10</th>\n",
       "      <td>XGBClassifier()</td>\n",
       "      <td>76.875</td>\n",
       "      <td>81.558563</td>\n",
       "      <td>0.046836</td>\n",
       "    </tr>\n",
       "    <tr>\n",
       "      <th>8</th>\n",
       "      <td>GradientBoostingClassifier()</td>\n",
       "      <td>81.875</td>\n",
       "      <td>76.913801</td>\n",
       "      <td>0.049612</td>\n",
       "    </tr>\n",
       "    <tr>\n",
       "      <th>7</th>\n",
       "      <td>ExtraTreesClassifier()</td>\n",
       "      <td>76.875</td>\n",
       "      <td>83.313472</td>\n",
       "      <td>0.064385</td>\n",
       "    </tr>\n",
       "    <tr>\n",
       "      <th>2</th>\n",
       "      <td>Decision Tree Classifier()</td>\n",
       "      <td>68.750</td>\n",
       "      <td>75.390137</td>\n",
       "      <td>0.066401</td>\n",
       "    </tr>\n",
       "    <tr>\n",
       "      <th>11</th>\n",
       "      <td>VotingClassifier()</td>\n",
       "      <td>68.125</td>\n",
       "      <td>78.038815</td>\n",
       "      <td>0.099138</td>\n",
       "    </tr>\n",
       "  </tbody>\n",
       "</table>\n",
       "</div>"
      ],
      "text/plain": [
       "                           Model  Model Score  Cross Validation Score  \\\n",
       "0           LogisticRegression()       75.000               74.896436   \n",
       "4                SGDClassifier()       71.875               71.246170   \n",
       "6       RandomForestClassifier()       81.875               83.949041   \n",
       "5                          SVC()       78.125               75.645500   \n",
       "1                   GaussianNB()       76.875               74.263704   \n",
       "9           AdaBoostClassifier()       79.375               75.276643   \n",
       "3         KNeighborsClassifier()       70.625               75.008512   \n",
       "10               XGBClassifier()       76.875               81.558563   \n",
       "8   GradientBoostingClassifier()       81.875               76.913801   \n",
       "7         ExtraTreesClassifier()       76.875               83.313472   \n",
       "2     Decision Tree Classifier()       68.750               75.390137   \n",
       "11            VotingClassifier()       68.125               78.038815   \n",
       "\n",
       "    Difference  \n",
       "0     0.001036  \n",
       "4     0.006288  \n",
       "6     0.020740  \n",
       "5     0.024795  \n",
       "1     0.026113  \n",
       "9     0.040984  \n",
       "3     0.043835  \n",
       "10    0.046836  \n",
       "8     0.049612  \n",
       "7     0.064385  \n",
       "2     0.066401  \n",
       "11    0.099138  "
      ]
     },
     "execution_count": 63,
     "metadata": {},
     "output_type": "execute_result"
    }
   ],
   "source": [
    "from sklearn.naive_bayes import GaussianNB               # GaussianNB Algorithm\n",
    "from sklearn.tree import DecisionTreeClassifier          # DecisionTreeClassifier\n",
    "from sklearn.neighbors import KNeighborsClassifier       # KNeighborsClassifier\n",
    "from sklearn.linear_model import SGDClassifier           # SGDClassifier\n",
    "from sklearn.svm import SVC                              # SVC\n",
    "from sklearn.ensemble import RandomForestClassifier      # RandomForestClassifier\n",
    "from sklearn.ensemble import ExtraTreesClassifier        # ExtraTreesClassifier\n",
    "from sklearn.ensemble import GradientBoostingClassifier  # GradientBoostingClassifier\n",
    "from sklearn.ensemble import AdaBoostClassifier          # AdaBoostClassifier\n",
    "from xgboost import XGBClassifier                        # XGBClassifier\n",
    "from sklearn.ensemble import VotingClassifier            # VotingClassifier\n",
    "\n",
    "\n",
    "# Defining Voting Classifier Models\n",
    "estimator=[]\n",
    "estimator.append(('KNC',KNeighborsClassifier()))\n",
    "estimator.append(('SVC',SVC(gamma='auto',probability=True)))\n",
    "estimator.append(('DTC',DecisionTreeClassifier()))\n",
    "\n",
    "# Defining the list with all Algorithms\n",
    "\n",
    "models=[('GaussianNB()',GaussianNB()),('Decision Tree Classifier()',DecisionTreeClassifier()),\n",
    "        ('KNeighborsClassifier()',KNeighborsClassifier()),('SGDClassifier()',SGDClassifier()),\n",
    "        ('SVC()',SVC()),('RandomForestClassifier()',RandomForestClassifier()),\n",
    "        ('ExtraTreesClassifier()',ExtraTreesClassifier()),('GradientBoostingClassifier()',GradientBoostingClassifier()),\n",
    "        ('AdaBoostClassifier()',AdaBoostClassifier()),('XGBClassifier()',XGBClassifier()),\n",
    "        ('VotingClassifier()',VotingClassifier(estimators=estimator,voting=\"soft\"))]\n",
    "\n",
    "# Defining empty lists\n",
    "Model=[lr]\n",
    "CV_Score=[lsscore_selected*100]\n",
    "Model_Score=[lss*100]\n",
    "Difference=[lss-lsscore_selected]\n",
    "\n",
    "# Loop for all algorithms to train the model and for the cross validation\n",
    "for model in models:\n",
    "    model[1].fit(x_train,y_train)                             # Train the model\n",
    "    pred_test=model[1].predict(x_test)                        # Predict Y values from the model using X test\n",
    "    Model_Score.append(accuracy_score(y_test,pred_test)*100)  # Appending \"Accuracy score\" to the list\n",
    "    print(\"Model:\",model[0])\n",
    "    print(\"Accuracy Score:\")\n",
    "    print(accuracy_score(y_test,pred_test)*100)               # Printing \"accuracy_score\"\n",
    "    print(\"Confusion Matrix:\")\n",
    "    print(confusion_matrix(y_test,pred_test))                 # Printing \"confusion_matrix\"\n",
    "    print(\"Classification Report:\")\n",
    "    print(classification_report(y_test,pred_test))            # Printing \"classification_report\"\n",
    "    print('-'*60)\n",
    "    \n",
    "    \n",
    "    score=cross_val_score(model[1],X_scale, Y,cv=BCV).mean()         # Cross Validation mean score calculation\n",
    "    CV_Score.append(score*100)                                # Appending \"cross validation score\" to the list\n",
    "    Difference.append(abs(accuracy_score(y_test,pred_test)-score)) # Appending \"Difference b/w CV and model scores\" to the list\n",
    "    Model.append(model[0])                                    # Appending \"Model\" to the list\n",
    "\n",
    "# Creating the dataframe with scores and the differences\n",
    "score_table=pd.DataFrame({'Model':Model,'Model Score':Model_Score,'Cross Validation Score':CV_Score,'Difference':Difference})\n",
    "print(\"Table with performance of the models\")\n",
    "score_table.sort_values(by=[\"Difference\"],ascending=True)  # sorting the score table using the difference"
   ]
  },
  {
   "cell_type": "markdown",
   "metadata": {},
   "source": [
    "## Observations:\n",
    "\n",
    "Based on the comparison between model score and cross validation scores for multiple models, I have considered **\"RandomForestClassifier()\"** is the best model due to high model score\n",
    "\n",
    "I will check with Cross validation score and check for **RandomForestClassifier()**"
   ]
  },
  {
   "cell_type": "markdown",
   "metadata": {},
   "source": [
    "# CrossValidation :"
   ]
  },
  {
   "cell_type": "code",
   "execution_count": 64,
   "metadata": {},
   "outputs": [
    {
     "name": "stdout",
     "output_type": "stream",
     "text": [
      "\n",
      "\n",
      "\u001b[1mCross Validation Score LogisticRegression() :\u001b[0m\n",
      "\n",
      "Score : [0.68125    0.71698113 0.76100629 0.78616352 0.74842767]\n",
      "Mean Score : 0.7387657232704403\n",
      "Std deviation : 0.03637904400024474\n",
      "\n",
      "\n",
      "============================================================================================================\n",
      "\n",
      "\n",
      "\u001b[1mCross Validation Score SVC() :\u001b[0m\n",
      "\n",
      "Score : [0.71875    0.72327044 0.78616352 0.77987421 0.74842767]\n",
      "Mean Score : 0.7512971698113209\n",
      "Std deviation : 0.02787601049570404\n",
      "\n",
      "\n",
      "============================================================================================================\n",
      "\n",
      "\n",
      "\u001b[1mCross Validation Score GaussianNB() :\u001b[0m\n",
      "\n",
      "Score : [0.68125    0.71698113 0.79245283 0.77987421 0.73584906]\n",
      "Mean Score : 0.7412814465408805\n",
      "Std deviation : 0.040820835144076806\n",
      "\n",
      "\n",
      "============================================================================================================\n",
      "\n",
      "\n",
      "\u001b[1mCross Validation Score DecisionTreeClassifier() :\u001b[0m\n",
      "\n",
      "Score : [0.7125     0.70440252 0.78616352 0.81132075 0.70440252]\n",
      "Mean Score : 0.7437578616352201\n",
      "Std deviation : 0.045689659598912205\n",
      "\n",
      "\n",
      "============================================================================================================\n",
      "\n",
      "\n",
      "\u001b[1mCross Validation Score KNeighborsClassifier(n_neighbors=12) :\u001b[0m\n",
      "\n",
      "Score : [0.71875    0.67924528 0.72327044 0.77987421 0.68553459]\n",
      "Mean Score : 0.7173349056603773\n",
      "Std deviation : 0.03580636111947172\n",
      "\n",
      "\n",
      "============================================================================================================\n",
      "\n",
      "\n",
      "\u001b[1mCross Validation Score RandomForestClassifier() :\u001b[0m\n",
      "\n",
      "Score : [0.75625    0.78616352 0.88050314 0.8490566  0.86163522]\n",
      "Mean Score : 0.8267216981132076\n",
      "Std deviation : 0.047373984222944664\n",
      "\n",
      "\n",
      "============================================================================================================\n",
      "\n",
      "\n",
      "\u001b[1mCross Validation Score ExtraTreesClassifier() :\u001b[0m\n",
      "\n",
      "Score : [0.7875     0.79874214 0.83647799 0.85534591 0.83647799]\n",
      "Mean Score : 0.8229088050314466\n",
      "Std deviation : 0.025527328799624927\n",
      "\n",
      "\n",
      "============================================================================================================\n",
      "\n",
      "\n",
      "\u001b[1mCross Validation Score AdaBoostClassifier() :\u001b[0m\n",
      "\n",
      "Score : [0.69375    0.71698113 0.79245283 0.78616352 0.78616352]\n",
      "Mean Score : 0.7551022012578616\n",
      "Std deviation : 0.04133276978470276\n",
      "\n",
      "\n",
      "============================================================================================================\n",
      "\n",
      "\n",
      "\u001b[1mCross Validation Score GradientBoostingClassifier() :\u001b[0m\n",
      "\n",
      "Score : [0.725      0.71069182 0.82389937 0.79245283 0.8427673 ]\n",
      "Mean Score : 0.7789622641509435\n",
      "Std deviation : 0.052621668450427414\n",
      "\n",
      "\n",
      "============================================================================================================\n",
      "\n",
      "\n",
      "\u001b[1mCross Validation Score XGBClassifier(base_score=None, booster=None, callbacks=None,\n",
      "              colsample_bylevel=None, colsample_bynode=None,\n",
      "              colsample_bytree=None, early_stopping_rounds=None,\n",
      "              enable_categorical=False, eval_metric=None, feature_types=None,\n",
      "              gamma=None, gpu_id=None, grow_policy=None, importance_type=None,\n",
      "              interaction_constraints=None, learning_rate=None, max_bin=None,\n",
      "              max_cat_threshold=None, max_cat_to_onehot=None,\n",
      "              max_delta_step=None, max_depth=None, max_leaves=None,\n",
      "              min_child_weight=None, missing=nan, monotone_constraints=None,\n",
      "              n_estimators=100, n_jobs=None, num_parallel_tree=None,\n",
      "              predictor=None, random_state=None, ...) :\u001b[0m\n",
      "\n",
      "Score : [0.75       0.7672956  0.8427673  0.81761006 0.8490566 ]\n",
      "Mean Score : 0.8053459119496855\n",
      "Std deviation : 0.039930916174465356\n",
      "\n",
      "\n",
      "============================================================================================================\n",
      "\n",
      "\n",
      "\u001b[1mCross Validation Score VotingClassifier(estimators=[('KNC', KNeighborsClassifier()),\n",
      "                             ('SVC', SVC(gamma='auto', probability=True)),\n",
      "                             ('DTC', DecisionTreeClassifier())],\n",
      "                 voting='soft') :\u001b[0m\n",
      "\n",
      "Score : [0.74375    0.76100629 0.78616352 0.81132075 0.76100629]\n",
      "Mean Score : 0.7726493710691824\n",
      "Std deviation : 0.023598324274987766\n",
      "\n",
      "\n",
      "============================================================================================================\n"
     ]
    }
   ],
   "source": [
    "from sklearn.model_selection import cross_val_score\n",
    "\n",
    "\n",
    "model=[LogisticRegression(),\n",
    "        SVC(),\n",
    "        GaussianNB(),\n",
    "        DecisionTreeClassifier(),\n",
    "        KNeighborsClassifier(n_neighbors = 12),\n",
    "        RandomForestClassifier(),\n",
    "        ExtraTreesClassifier(),\n",
    "        AdaBoostClassifier(),\n",
    "        GradientBoostingClassifier(),\n",
    "        XGBClassifier(),\n",
    "        VotingClassifier(estimators=estimator,voting=\"soft\")]\n",
    "\n",
    "for m in model:\n",
    "    score = cross_val_score(m,X_scale, Y, cv =5)\n",
    "    print('\\n')\n",
    "    print('\\033[1m'+'Cross Validation Score', m, ':'+'\\033[0m\\n')\n",
    "    print(\"Score :\" ,score)\n",
    "    print(\"Mean Score :\",score.mean())\n",
    "    print(\"Std deviation :\",score.std())\n",
    "    print('\\n')\n",
    "    print('============================================================================================================')"
   ]
  },
  {
   "cell_type": "markdown",
   "metadata": {},
   "source": [
    "## Observations:\n",
    "\n",
    "Based on the comparison between model score and cross validation scores for multiple models, I have considered **\"RandomForestClassifier()\"** is the best model.\n",
    "\n",
    "Hyper parameter tuning will be peformed for **RandomForestClassifier()** based on the Cross validation score aswell\"."
   ]
  },
  {
   "cell_type": "markdown",
   "metadata": {},
   "source": [
    "# Hyper Parameter Tuning"
   ]
  },
  {
   "cell_type": "code",
   "execution_count": 65,
   "metadata": {},
   "outputs": [],
   "source": [
    "# Hyper parameter tuning on RandomForestClassifier()\n",
    "\n",
    "from sklearn.model_selection import GridSearchCV\n",
    "\n",
    "parameters = {  'bootstrap': [True], \n",
    "             'max_depth': [5,50], \n",
    "              'max_features': ['auto', 'log2'], \n",
    "              'criterion':['gini','entropy'],\n",
    "              'n_estimators': [5,10]\n",
    "            }"
   ]
  },
  {
   "cell_type": "code",
   "execution_count": 66,
   "metadata": {},
   "outputs": [],
   "source": [
    "GCV=GridSearchCV(RandomForestClassifier(),parameters,cv=10,n_jobs=-1)  # Defining instance for GridSearchCV"
   ]
  },
  {
   "cell_type": "code",
   "execution_count": 67,
   "metadata": {},
   "outputs": [
    {
     "data": {
      "text/html": [
       "<style>#sk-container-id-1 {color: black;background-color: white;}#sk-container-id-1 pre{padding: 0;}#sk-container-id-1 div.sk-toggleable {background-color: white;}#sk-container-id-1 label.sk-toggleable__label {cursor: pointer;display: block;width: 100%;margin-bottom: 0;padding: 0.3em;box-sizing: border-box;text-align: center;}#sk-container-id-1 label.sk-toggleable__label-arrow:before {content: \"▸\";float: left;margin-right: 0.25em;color: #696969;}#sk-container-id-1 label.sk-toggleable__label-arrow:hover:before {color: black;}#sk-container-id-1 div.sk-estimator:hover label.sk-toggleable__label-arrow:before {color: black;}#sk-container-id-1 div.sk-toggleable__content {max-height: 0;max-width: 0;overflow: hidden;text-align: left;background-color: #f0f8ff;}#sk-container-id-1 div.sk-toggleable__content pre {margin: 0.2em;color: black;border-radius: 0.25em;background-color: #f0f8ff;}#sk-container-id-1 input.sk-toggleable__control:checked~div.sk-toggleable__content {max-height: 200px;max-width: 100%;overflow: auto;}#sk-container-id-1 input.sk-toggleable__control:checked~label.sk-toggleable__label-arrow:before {content: \"▾\";}#sk-container-id-1 div.sk-estimator input.sk-toggleable__control:checked~label.sk-toggleable__label {background-color: #d4ebff;}#sk-container-id-1 div.sk-label input.sk-toggleable__control:checked~label.sk-toggleable__label {background-color: #d4ebff;}#sk-container-id-1 input.sk-hidden--visually {border: 0;clip: rect(1px 1px 1px 1px);clip: rect(1px, 1px, 1px, 1px);height: 1px;margin: -1px;overflow: hidden;padding: 0;position: absolute;width: 1px;}#sk-container-id-1 div.sk-estimator {font-family: monospace;background-color: #f0f8ff;border: 1px dotted black;border-radius: 0.25em;box-sizing: border-box;margin-bottom: 0.5em;}#sk-container-id-1 div.sk-estimator:hover {background-color: #d4ebff;}#sk-container-id-1 div.sk-parallel-item::after {content: \"\";width: 100%;border-bottom: 1px solid gray;flex-grow: 1;}#sk-container-id-1 div.sk-label:hover label.sk-toggleable__label {background-color: #d4ebff;}#sk-container-id-1 div.sk-serial::before {content: \"\";position: absolute;border-left: 1px solid gray;box-sizing: border-box;top: 0;bottom: 0;left: 50%;z-index: 0;}#sk-container-id-1 div.sk-serial {display: flex;flex-direction: column;align-items: center;background-color: white;padding-right: 0.2em;padding-left: 0.2em;position: relative;}#sk-container-id-1 div.sk-item {position: relative;z-index: 1;}#sk-container-id-1 div.sk-parallel {display: flex;align-items: stretch;justify-content: center;background-color: white;position: relative;}#sk-container-id-1 div.sk-item::before, #sk-container-id-1 div.sk-parallel-item::before {content: \"\";position: absolute;border-left: 1px solid gray;box-sizing: border-box;top: 0;bottom: 0;left: 50%;z-index: -1;}#sk-container-id-1 div.sk-parallel-item {display: flex;flex-direction: column;z-index: 1;position: relative;background-color: white;}#sk-container-id-1 div.sk-parallel-item:first-child::after {align-self: flex-end;width: 50%;}#sk-container-id-1 div.sk-parallel-item:last-child::after {align-self: flex-start;width: 50%;}#sk-container-id-1 div.sk-parallel-item:only-child::after {width: 0;}#sk-container-id-1 div.sk-dashed-wrapped {border: 1px dashed gray;margin: 0 0.4em 0.5em 0.4em;box-sizing: border-box;padding-bottom: 0.4em;background-color: white;}#sk-container-id-1 div.sk-label label {font-family: monospace;font-weight: bold;display: inline-block;line-height: 1.2em;}#sk-container-id-1 div.sk-label-container {text-align: center;}#sk-container-id-1 div.sk-container {/* jupyter's `normalize.less` sets `[hidden] { display: none; }` but bootstrap.min.css set `[hidden] { display: none !important; }` so we also need the `!important` here to be able to override the default hidden behavior on the sphinx rendered scikit-learn.org. See: https://github.com/scikit-learn/scikit-learn/issues/21755 */display: inline-block !important;position: relative;}#sk-container-id-1 div.sk-text-repr-fallback {display: none;}</style><div id=\"sk-container-id-1\" class=\"sk-top-container\"><div class=\"sk-text-repr-fallback\"><pre>GridSearchCV(cv=10, estimator=RandomForestClassifier(), n_jobs=-1,\n",
       "             param_grid={&#x27;bootstrap&#x27;: [True], &#x27;criterion&#x27;: [&#x27;gini&#x27;, &#x27;entropy&#x27;],\n",
       "                         &#x27;max_depth&#x27;: [5, 50], &#x27;max_features&#x27;: [&#x27;auto&#x27;, &#x27;log2&#x27;],\n",
       "                         &#x27;n_estimators&#x27;: [5, 10]})</pre><b>In a Jupyter environment, please rerun this cell to show the HTML representation or trust the notebook. <br />On GitHub, the HTML representation is unable to render, please try loading this page with nbviewer.org.</b></div><div class=\"sk-container\" hidden><div class=\"sk-item sk-dashed-wrapped\"><div class=\"sk-label-container\"><div class=\"sk-label sk-toggleable\"><input class=\"sk-toggleable__control sk-hidden--visually\" id=\"sk-estimator-id-1\" type=\"checkbox\" ><label for=\"sk-estimator-id-1\" class=\"sk-toggleable__label sk-toggleable__label-arrow\">GridSearchCV</label><div class=\"sk-toggleable__content\"><pre>GridSearchCV(cv=10, estimator=RandomForestClassifier(), n_jobs=-1,\n",
       "             param_grid={&#x27;bootstrap&#x27;: [True], &#x27;criterion&#x27;: [&#x27;gini&#x27;, &#x27;entropy&#x27;],\n",
       "                         &#x27;max_depth&#x27;: [5, 50], &#x27;max_features&#x27;: [&#x27;auto&#x27;, &#x27;log2&#x27;],\n",
       "                         &#x27;n_estimators&#x27;: [5, 10]})</pre></div></div></div><div class=\"sk-parallel\"><div class=\"sk-parallel-item\"><div class=\"sk-item\"><div class=\"sk-label-container\"><div class=\"sk-label sk-toggleable\"><input class=\"sk-toggleable__control sk-hidden--visually\" id=\"sk-estimator-id-2\" type=\"checkbox\" ><label for=\"sk-estimator-id-2\" class=\"sk-toggleable__label sk-toggleable__label-arrow\">estimator: RandomForestClassifier</label><div class=\"sk-toggleable__content\"><pre>RandomForestClassifier()</pre></div></div></div><div class=\"sk-serial\"><div class=\"sk-item\"><div class=\"sk-estimator sk-toggleable\"><input class=\"sk-toggleable__control sk-hidden--visually\" id=\"sk-estimator-id-3\" type=\"checkbox\" ><label for=\"sk-estimator-id-3\" class=\"sk-toggleable__label sk-toggleable__label-arrow\">RandomForestClassifier</label><div class=\"sk-toggleable__content\"><pre>RandomForestClassifier()</pre></div></div></div></div></div></div></div></div></div></div>"
      ],
      "text/plain": [
       "GridSearchCV(cv=10, estimator=RandomForestClassifier(), n_jobs=-1,\n",
       "             param_grid={'bootstrap': [True], 'criterion': ['gini', 'entropy'],\n",
       "                         'max_depth': [5, 50], 'max_features': ['auto', 'log2'],\n",
       "                         'n_estimators': [5, 10]})"
      ]
     },
     "execution_count": 67,
     "metadata": {},
     "output_type": "execute_result"
    }
   ],
   "source": [
    "GCV.fit(x_train,y_train)   # Apply GridSearchCV to train the model with all combination of parameters"
   ]
  },
  {
   "cell_type": "code",
   "execution_count": 68,
   "metadata": {},
   "outputs": [
    {
     "data": {
      "text/plain": [
       "{'bootstrap': True,\n",
       " 'criterion': 'gini',\n",
       " 'max_depth': 50,\n",
       " 'max_features': 'log2',\n",
       " 'n_estimators': 10}"
      ]
     },
     "execution_count": 68,
     "metadata": {},
     "output_type": "execute_result"
    }
   ],
   "source": [
    "GCV.best_params_   # printing the best parameters"
   ]
  },
  {
   "cell_type": "code",
   "execution_count": 69,
   "metadata": {},
   "outputs": [
    {
     "name": "stdout",
     "output_type": "stream",
     "text": [
      "76.875\n",
      "[[58 10]\n",
      " [27 65]]\n",
      "              precision    recall  f1-score   support\n",
      "\n",
      "           0       0.68      0.85      0.76        68\n",
      "           1       0.87      0.71      0.78        92\n",
      "\n",
      "    accuracy                           0.77       160\n",
      "   macro avg       0.77      0.78      0.77       160\n",
      "weighted avg       0.79      0.77      0.77       160\n",
      "\n"
     ]
    }
   ],
   "source": [
    "# Training the model using best parameters from GridSearchCV and checking the accuracy score, classificaiton report and confusion matrix\n",
    "ht_model=RandomForestClassifier(bootstrap=GCV.best_params_['bootstrap'],criterion=GCV.best_params_['criterion'],\n",
    "                                 max_depth=GCV.best_params_['max_depth'],max_features=GCV.best_params_['max_features'],\n",
    "                                 n_estimators=GCV.best_params_['n_estimators'])\n",
    "ht_model.fit(x_train,y_train)\n",
    "pred=ht_model.predict(x_test)\n",
    "acc=accuracy_score(y_test,pred)\n",
    "print(acc*100)\n",
    "print(confusion_matrix(y_test,pred))\n",
    "print(classification_report(y_test,pred))"
   ]
  },
  {
   "cell_type": "code",
   "execution_count": 70,
   "metadata": {},
   "outputs": [
    {
     "name": "stdout",
     "output_type": "stream",
     "text": [
      "The CV score is: 79.92566110543639 \n",
      "The accuracy score is: 76.875\n",
      "Difference is: -0.030506611054363808\n"
     ]
    }
   ],
   "source": [
    "score=cross_val_score(ht_model,X_scale, Y,cv=BCV).mean()\n",
    "print(\"The CV score is:\",score*100,\"\\nThe accuracy score is:\",accuracy_score(y_test,pred)*100)\n",
    "print(\"Difference is:\",accuracy_score(y_test,pred)-score)"
   ]
  },
  {
   "cell_type": "markdown",
   "metadata": {},
   "source": [
    "## Observations:\n",
    "\n",
    "Hyper Parameter Tuned model: The difference between Cross Validation Score and model score is -0.05\n",
    "\n",
    "Model with default parameters: The difference between Cross Validation Score and model score is 0.006\n",
    "\n",
    "As difference is almost same with defautl parameters We will consider  **RandomForestClassifier** model with default parameters"
   ]
  },
  {
   "cell_type": "code",
   "execution_count": 71,
   "metadata": {},
   "outputs": [
    {
     "data": {
      "image/png": "[encoded data removed]",
      "text/plain": [
       "<Figure size 432x288 with 1 Axes>"
      ]
     },
     "metadata": {
      "needs_background": "light"
     },
     "output_type": "display_data"
    },
    {
     "data": {
      "text/plain": [
       "<Figure size 720x720 with 0 Axes>"
      ]
     },
     "metadata": {},
     "output_type": "display_data"
    },
    {
     "name": "stdout",
     "output_type": "stream",
     "text": [
      "\u001b[1mAuc Score :\u001b[0m\n",
      " 0.8232097186700766\n"
     ]
    }
   ],
   "source": [
    "from sklearn.metrics import roc_auc_score\n",
    "from sklearn.metrics import roc_curve\n",
    "from sklearn.metrics import plot_roc_curve\n",
    "Final_model = models[5][1]\n",
    "disp = plot_roc_curve(Final_model,x_test,y_test)   \n",
    "plt.legend(prop={'size':11}, loc='lower right')\n",
    "plt.figure(figsize=(10,10))\n",
    "plt.show()\n",
    "plt.show()\n",
    "auc_score = roc_auc_score(y_test, Final_model.predict(x_test))\n",
    "print('\\033[1m'+'Auc Score :'+'\\033[0m\\n',auc_score)"
   ]
  },
  {
   "cell_type": "markdown",
   "metadata": {},
   "source": [
    "# Final Model"
   ]
  },
  {
   "cell_type": "code",
   "execution_count": 72,
   "metadata": {},
   "outputs": [
    {
     "name": "stdout",
     "output_type": "stream",
     "text": [
      "models selected === RandomForestClassifier()\n"
     ]
    },
    {
     "data": {
      "text/html": [
       "<div>\n",
       "<style scoped>\n",
       "    .dataframe tbody tr th:only-of-type {\n",
       "        vertical-align: middle;\n",
       "    }\n",
       "\n",
       "    .dataframe tbody tr th {\n",
       "        vertical-align: top;\n",
       "    }\n",
       "\n",
       "    .dataframe thead th {\n",
       "        text-align: right;\n",
       "    }\n",
       "</style>\n",
       "<table border=\"1\" class=\"dataframe\">\n",
       "  <thead>\n",
       "    <tr style=\"text-align: right;\">\n",
       "      <th></th>\n",
       "      <th>0</th>\n",
       "    </tr>\n",
       "  </thead>\n",
       "  <tbody>\n",
       "    <tr>\n",
       "      <th>0</th>\n",
       "      <td>0</td>\n",
       "    </tr>\n",
       "    <tr>\n",
       "      <th>1</th>\n",
       "      <td>0</td>\n",
       "    </tr>\n",
       "    <tr>\n",
       "      <th>2</th>\n",
       "      <td>0</td>\n",
       "    </tr>\n",
       "    <tr>\n",
       "      <th>3</th>\n",
       "      <td>1</td>\n",
       "    </tr>\n",
       "    <tr>\n",
       "      <th>4</th>\n",
       "      <td>0</td>\n",
       "    </tr>\n",
       "    <tr>\n",
       "      <th>5</th>\n",
       "      <td>0</td>\n",
       "    </tr>\n",
       "    <tr>\n",
       "      <th>6</th>\n",
       "      <td>0</td>\n",
       "    </tr>\n",
       "    <tr>\n",
       "      <th>7</th>\n",
       "      <td>0</td>\n",
       "    </tr>\n",
       "    <tr>\n",
       "      <th>8</th>\n",
       "      <td>0</td>\n",
       "    </tr>\n",
       "    <tr>\n",
       "      <th>9</th>\n",
       "      <td>0</td>\n",
       "    </tr>\n",
       "  </tbody>\n",
       "</table>\n",
       "</div>"
      ],
      "text/plain": [
       "   0\n",
       "0  0\n",
       "1  0\n",
       "2  0\n",
       "3  1\n",
       "4  0\n",
       "5  0\n",
       "6  0\n",
       "7  0\n",
       "8  0\n",
       "9  0"
      ]
     },
     "execution_count": 72,
     "metadata": {},
     "output_type": "execute_result"
    }
   ],
   "source": [
    "#models selected ===RandomForestClassifier()\n",
    "print(\"models selected ===\",models[5][1])\n",
    "\n",
    "x_predict = list(Final_model.predict(x_test))\n",
    "#creating new dataframe\n",
    "pd.DataFrame(x_predict).head(10)"
   ]
  },
  {
   "cell_type": "markdown",
   "metadata": {},
   "source": [
    "# Saving model"
   ]
  },
  {
   "cell_type": "code",
   "execution_count": 73,
   "metadata": {},
   "outputs": [
    {
     "name": "stdout",
     "output_type": "stream",
     "text": [
      "Model Saved-- RandomForestClassifier()\n"
     ]
    }
   ],
   "source": [
    "print(\"Model Saved--\", Final_model)\n",
    "import pickle\n",
    "file = 'Loan_Status_Final'\n",
    "save = pickle.dump(Final_model,open('Loan_Status_Final.pkl','wb'))"
   ]
  },
  {
   "cell_type": "markdown",
   "metadata": {},
   "source": [
    "# Conclusion-Prediction Loan Status"
   ]
  },
  {
   "cell_type": "code",
   "execution_count": 74,
   "metadata": {},
   "outputs": [
    {
     "name": "stdout",
     "output_type": "stream",
     "text": [
      "0.81875\n",
      "\n",
      "Loan Status Predicted list based on Test data provided: \n"
     ]
    },
    {
     "data": {
      "text/html": [
       "<div>\n",
       "<style scoped>\n",
       "    .dataframe tbody tr th:only-of-type {\n",
       "        vertical-align: middle;\n",
       "    }\n",
       "\n",
       "    .dataframe tbody tr th {\n",
       "        vertical-align: top;\n",
       "    }\n",
       "\n",
       "    .dataframe thead th {\n",
       "        text-align: right;\n",
       "    }\n",
       "</style>\n",
       "<table border=\"1\" class=\"dataframe\">\n",
       "  <thead>\n",
       "    <tr style=\"text-align: right;\">\n",
       "      <th></th>\n",
       "      <th>LoanStatus_Predicted</th>\n",
       "    </tr>\n",
       "  </thead>\n",
       "  <tbody>\n",
       "    <tr>\n",
       "      <th>0</th>\n",
       "      <td>0</td>\n",
       "    </tr>\n",
       "    <tr>\n",
       "      <th>1</th>\n",
       "      <td>0</td>\n",
       "    </tr>\n",
       "    <tr>\n",
       "      <th>2</th>\n",
       "      <td>0</td>\n",
       "    </tr>\n",
       "    <tr>\n",
       "      <th>3</th>\n",
       "      <td>1</td>\n",
       "    </tr>\n",
       "    <tr>\n",
       "      <th>4</th>\n",
       "      <td>0</td>\n",
       "    </tr>\n",
       "    <tr>\n",
       "      <th>...</th>\n",
       "      <td>...</td>\n",
       "    </tr>\n",
       "    <tr>\n",
       "      <th>155</th>\n",
       "      <td>1</td>\n",
       "    </tr>\n",
       "    <tr>\n",
       "      <th>156</th>\n",
       "      <td>1</td>\n",
       "    </tr>\n",
       "    <tr>\n",
       "      <th>157</th>\n",
       "      <td>1</td>\n",
       "    </tr>\n",
       "    <tr>\n",
       "      <th>158</th>\n",
       "      <td>1</td>\n",
       "    </tr>\n",
       "    <tr>\n",
       "      <th>159</th>\n",
       "      <td>0</td>\n",
       "    </tr>\n",
       "  </tbody>\n",
       "</table>\n",
       "<p>160 rows × 1 columns</p>\n",
       "</div>"
      ],
      "text/plain": [
       "     LoanStatus_Predicted\n",
       "0                       0\n",
       "1                       0\n",
       "2                       0\n",
       "3                       1\n",
       "4                       0\n",
       "..                    ...\n",
       "155                     1\n",
       "156                     1\n",
       "157                     1\n",
       "158                     1\n",
       "159                     0\n",
       "\n",
       "[160 rows x 1 columns]"
      ]
     },
     "metadata": {},
     "output_type": "display_data"
    }
   ],
   "source": [
    "pickled_LoanStatus_predict = pickle.load(open('Loan_Status_Final.pkl','rb'))\n",
    "result=pickled_LoanStatus_predict.score(x_test,y_test)\n",
    "print(result)\n",
    "\n",
    "LoanStatus_Predicted=pickled_LoanStatus_predict.predict(x_test)\n",
    "df_predicted = pd.DataFrame(LoanStatus_Predicted, columns =['LoanStatus_Predicted'])\n",
    "print(\"\\nLoan Status Predicted list based on Test data provided: \")\n",
    "display(df_predicted)"
   ]
  }
 ],
 "metadata": {
  "kernelspec": {
   "display_name": "Python 3 (ipykernel)",
   "language": "python",
   "name": "python3"
  },
  "language_info": {
   "codemirror_mode": {
    "name": "ipython",
    "version": 3
   },
   "file_extension": ".py",
   "mimetype": "text/x-python",
   "name": "python",
   "nbconvert_exporter": "python",
   "pygments_lexer": "ipython3",
   "version": "3.9.12"
  }
 },
 "nbformat": 4,
 "nbformat_minor": 4
}
